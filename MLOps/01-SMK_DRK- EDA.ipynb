{
 "cells": [
  {
   "cell_type": "code",
   "execution_count": null,
   "id": "36088726-78ca-4169-b3ff-2831f14f611b",
   "metadata": {},
   "outputs": [],
   "source": [
    "import random\n",
    "import numpy as np\n",
    "import pandas as pd"
   ]
  },
  {
   "cell_type": "code",
   "execution_count": null,
   "id": "252a5b70-4ac0-4598-a1f9-22c3218274da",
   "metadata": {},
   "outputs": [],
   "source": [
    "import seaborn as sns\n",
    "import plotly.express as px\n",
    "import matplotlib.pyplot as plt\n",
    "import plotly.graph_objects as go"
   ]
  },
  {
   "cell_type": "code",
   "execution_count": null,
   "id": "d0112e13-b7ad-438d-af68-dea4759ebc30",
   "metadata": {},
   "outputs": [],
   "source": [
    "import warnings\n",
    "warnings.filterwarnings(\"ignore\")\n",
    "from tqdm.auto import tqdm\n",
    "from ydata_profiling import ProfileReport"
   ]
  },
  {
   "cell_type": "code",
   "execution_count": null,
   "id": "15b8392b-9266-495e-9989-b2c97daed7ac",
   "metadata": {},
   "outputs": [],
   "source": [
    "import mlflow"
   ]
  },
  {
   "cell_type": "code",
   "execution_count": null,
   "id": "3a70b9ef-32ec-4dc6-ac0a-6e549d296520",
   "metadata": {},
   "outputs": [],
   "source": [
    "# mlflow ui --backend-store-uri sqlite:///mlflow.db\n",
    "# mlflow server --host 127.0.0.1 --port 5000\n",
    "mlflow.set_tracking_uri(\"sqlite:///mlflow.db\")\n",
    "mlflow.set_tracking_uri(\"http://127.0.0.1:5000\")\n",
    "mlflow.set_experiment(\"drinking\")"
   ]
  },
  {
   "cell_type": "code",
   "execution_count": null,
   "id": "2a7add7d-8949-48e3-9ffd-54d9ca30ab4e",
   "metadata": {},
   "outputs": [],
   "source": [
    "tqdm.pandas()\n",
    "warnings.filterwarnings('ignore')"
   ]
  },
  {
   "cell_type": "code",
   "execution_count": null,
   "id": "a8c71c2a-e925-4590-a908-f3b92c3f65f5",
   "metadata": {},
   "outputs": [],
   "source": [
    "path = 'Artefacts/'"
   ]
  },
  {
   "cell_type": "code",
   "execution_count": null,
   "id": "e1c35f01-9727-4741-be08-ea0541a31284",
   "metadata": {},
   "outputs": [],
   "source": [
    "df = pd.read_parquet('Data/smoking_drinking.parquet')"
   ]
  },
  {
   "cell_type": "code",
   "execution_count": null,
   "id": "e351a475-c861-4bc8-b4c3-c76a1527586f",
   "metadata": {},
   "outputs": [],
   "source": [
    "profile = ProfileReport(df, title=\"Pandas Profiling Report\")"
   ]
  },
  {
   "cell_type": "code",
   "execution_count": null,
   "id": "f85b03d5-f99f-4cd4-ab07-8ee044a28040",
   "metadata": {
    "scrolled": true
   },
   "outputs": [],
   "source": [
    "profile"
   ]
  },
  {
   "cell_type": "code",
   "execution_count": null,
   "id": "0a637668-16dd-426d-8833-74724c2d83d1",
   "metadata": {},
   "outputs": [],
   "source": [
    "profile.to_file(f\"{path}profile.html\")"
   ]
  },
  {
   "cell_type": "code",
   "execution_count": null,
   "id": "fd4f676d-9a74-4b2e-94b2-951022ae900a",
   "metadata": {},
   "outputs": [],
   "source": [
    "def plot_boxplots(dataframe):\n",
    "    num_columns = dataframe.select_dtypes(include=['number']).columns \n",
    "    num_plots = len(num_columns)\n",
    "    rows = (num_plots + 1) // 2 \n",
    "\n",
    "    fig, axes = plt.subplots(nrows=rows, ncols=2, figsize=(20, 20))  \n",
    "\n",
    "    for i, column in enumerate(num_columns):\n",
    "        row = i // 2\n",
    "        col = i % 2\n",
    "        ax = axes[row, col]\n",
    "        sns.boxplot(x=dataframe[column], ax=ax)\n",
    "        ax.set_title(f\"Boxplot of {column}\")\n",
    "        ax.set_xlabel(column)\n",
    "\n",
    "    plt.tight_layout()\n",
    "    plt.show()\n",
    "    return fig"
   ]
  },
  {
   "cell_type": "code",
   "execution_count": null,
   "id": "a9aaf47e-94a9-4fa2-97f2-5563cd32db3d",
   "metadata": {
    "scrolled": true
   },
   "outputs": [],
   "source": [
    "box_plot = plot_boxplots(df)"
   ]
  },
  {
   "cell_type": "code",
   "execution_count": null,
   "id": "cfc6f8e8-10f8-45a3-a742-6b6ea33b229f",
   "metadata": {},
   "outputs": [],
   "source": [
    "box_plot"
   ]
  },
  {
   "cell_type": "code",
   "execution_count": null,
   "id": "c01572c4-1dd3-4221-98de-5a19b4766667",
   "metadata": {},
   "outputs": [],
   "source": [
    "box_plot.savefig(f\"{path}box_plot.jpeg\") "
   ]
  },
  {
   "cell_type": "code",
   "execution_count": null,
   "id": "45b9b28f-e196-40ea-b56e-4bc281754a6a",
   "metadata": {},
   "outputs": [],
   "source": [
    "def remove_outliers(df, columns, k=1.5):\n",
    "    for column in columns:\n",
    "        q1 = df[column].quantile(0.25)\n",
    "        q3 = df[column].quantile(0.75) \n",
    "        iqr = q3 - q1\n",
    "        df[column] = df[column].clip(lower=q1 - k * iqr, upper=q3 + k * iqr)\n",
    "\n",
    "    return df"
   ]
  },
  {
   "cell_type": "code",
   "execution_count": null,
   "id": "c6323ef1-0656-43ee-95b9-92d1cf6499c8",
   "metadata": {},
   "outputs": [],
   "source": [
    "remove_outliers(df,['waistline','SBP', 'DBP','BLDS','tot_chole','triglyceride','serum_creatinine','SGOT_AST', 'SGOT_ALT'],k=1.5)"
   ]
  },
  {
   "cell_type": "code",
   "execution_count": null,
   "id": "ed036e10-b18e-4c50-8549-93e22a18a892",
   "metadata": {},
   "outputs": [],
   "source": [
    "fig = go.Figure()\n",
    "\n",
    "for category in df['DRK_YN'].unique():\n",
    "    data = df[df['DRK_YN'] == category]\n",
    "    fig.add_trace(go.Histogram(x=data['age'], name=category, nbinsx=int(df.age.max())))  \n",
    "    \n",
    "fig.update_layout(\n",
    "    title='Histogram of Age by Drinking',\n",
    "    xaxis_title='Age',\n",
    "    yaxis_title='Count',\n",
    ")\n",
    "\n",
    "fig.show()"
   ]
  },
  {
   "cell_type": "code",
   "execution_count": null,
   "id": "c8507d27-3007-417f-af24-41b2dd1363a8",
   "metadata": {
    "tags": []
   },
   "outputs": [],
   "source": [
    "fig.write_html(f\"{path}/hist_age_drkn.html\")"
   ]
  },
  {
   "cell_type": "code",
   "execution_count": null,
   "id": "708fce86-2d25-4bf5-ba14-f3a704abadf3",
   "metadata": {
    "tags": []
   },
   "outputs": [],
   "source": [
    "fig1 = px.histogram(df, x=\"sex\", color=\"DRK_YN\", barmode=\"group\")\n",
    "\n",
    "fig.update_layout(\n",
    "    xaxis_title=\"sex\",\n",
    "    yaxis_title=\"Count\",\n",
    "    barmode=\"group\",\n",
    "    bargap=0.1\n",
    ")\n",
    "\n",
    "for data in fig.data:\n",
    "    fig.add_annotation(\n",
    "        x=data.x,\n",
    "        y=data.y,\n",
    "        text=data.y,\n",
    "#         showarrow=False,\n",
    "        font=dict(size=12)\n",
    ")\n",
    "\n",
    "fig1.show()"
   ]
  },
  {
   "cell_type": "code",
   "execution_count": null,
   "id": "8ee778cc-50c0-499c-85f8-c6465ec53a40",
   "metadata": {
    "tags": []
   },
   "outputs": [],
   "source": [
    "fig1.write_html(f\"{path}/hist_sex_drkn.html\")"
   ]
  },
  {
   "cell_type": "code",
   "execution_count": null,
   "id": "cc2ebf5b-4c08-4e7b-968f-8d2981755573",
   "metadata": {
    "tags": []
   },
   "outputs": [],
   "source": [
    "i = random.randint(0, 93)\n",
    "colorscales = px.colors.named_colorscales()\n",
    "corr = px.imshow(df.corr(numeric_only=True), \n",
    "                            text_auto=True, width=800, height=800, \n",
    "                            color_continuous_scale=colorscales[i],)\n",
    "corr.show()"
   ]
  },
  {
   "cell_type": "code",
   "execution_count": null,
   "id": "573663e7-b30a-469f-bd7e-0306414f1a21",
   "metadata": {
    "tags": []
   },
   "outputs": [],
   "source": [
    "corr.write_html(f\"{path}/corr.html\")"
   ]
  },
  {
   "cell_type": "code",
   "execution_count": null,
   "id": "711259cf-9149-443f-8ee6-f07626ecd594",
   "metadata": {},
   "outputs": [],
   "source": [
    "df = df[(df.sight_left <= 2) & (df.sight_right <= 2)]"
   ]
  },
  {
   "cell_type": "code",
   "execution_count": null,
   "id": "428ad9b6-ea7f-41d9-996c-8b6b16ceba82",
   "metadata": {},
   "outputs": [],
   "source": [
    "df = df.drop_duplicates() # Removing duplicates"
   ]
  },
  {
   "cell_type": "code",
   "execution_count": null,
   "id": "ba2938d6-e9c3-47c4-9345-88b3fa8a51f0",
   "metadata": {},
   "outputs": [],
   "source": [
    "df[\"hearing\"] = df.apply(lambda row: \"Normal\" if row[\"hear_right\"] == 1 and row[\"hear_left\"] == 1 else \"Abnormal\", axis=1)\n",
    "df = df.drop([\"hear_left\", \"hear_right\"], axis=1)\n",
    "df.head()"
   ]
  },
  {
   "cell_type": "code",
   "execution_count": null,
   "id": "ed4c73a9-8bc3-40da-9459-c6a362faa75b",
   "metadata": {},
   "outputs": [],
   "source": [
    "df = df.drop(df[df.SMK_stat_type_cd == 2].index) \n",
    "smoking_replace = {\n",
    "    1: \"N\",\n",
    "    3: \"Y\"\n",
    "}\n",
    "df.SMK_stat_type_cd = df.SMK_stat_type_cd.replace(smoking_replace)"
   ]
  },
  {
   "cell_type": "code",
   "execution_count": null,
   "id": "217c21ad-661f-4f29-bd04-b9d64027dd63",
   "metadata": {},
   "outputs": [],
   "source": [
    "df_control = df.query(\"SMK_stat_type_cd == 'N' and DRK_YN == 'N'\")\n",
    "df_control = df_control.drop([\"SMK_stat_type_cd\", \"DRK_YN\"], axis=1)\n",
    "df_control.describe()"
   ]
  },
  {
   "cell_type": "code",
   "execution_count": null,
   "id": "9f95fa25-dd47-492b-975c-55d3378d42bf",
   "metadata": {
    "scrolled": true
   },
   "outputs": [],
   "source": [
    "fig, axs = plt.subplots(2, 3, figsize=(16, 8))\n",
    "\n",
    "sns.lineplot(data=df_control, x=\"age\", y=\"height\", hue=\"sex\", ax=axs[0][0])\n",
    "sns.lineplot(data=df_control, x=\"age\", y=\"weight\", hue=\"sex\", ax=axs[0][1])\n",
    "sns.lineplot(data=df_control, x=\"age\", y=\"sight_right\", hue=\"sex\", ax=axs[0][2])\n",
    "sns.lineplot(data=df_control, x=\"age\", y=\"sight_left\", hue=\"sex\", palette={\"Male\":\"black\", \"Female\":\"green\"}, ax=axs[0][2])\n",
    "axs[0][2].set_ylabel(\"sight\")\n",
    "\n",
    "sns.lineplot(data=df_control, x=\"weight\", y=\"height\", hue=\"sex\", ax=axs[1][0])\n",
    "sns.lineplot(data=df_control, x=\"weight\", y=\"waistline\", hue=\"sex\", ax=axs[1][1])\n",
    "sns.lineplot(data=df_control, x=\"weight\", y=\"sight_right\", hue=\"sex\", ax=axs[1][2])\n",
    "sns.lineplot(data=df_control, x=\"weight\", y=\"sight_left\", hue=\"sex\", palette={\"Male\":\"black\", \"Female\":\"green\"}, ax=axs[1][2])\n",
    "axs[1][2].set_ylabel(\"sight\")\n",
    "\n",
    "plt.show()"
   ]
  },
  {
   "cell_type": "code",
   "execution_count": null,
   "id": "6a131cb8-b6f6-489e-9344-fe7bbd264349",
   "metadata": {},
   "outputs": [],
   "source": [
    "fig.savefig(f\"{path}line_plot.jpeg\") "
   ]
  },
  {
   "cell_type": "markdown",
   "id": "5c78d7aa-161a-4c46-be08-e01d8cbe0e5f",
   "metadata": {},
   "source": [
    "## Análise dos atributos físicos de não fumantes e não bebedores\r\n",
    "\r\n",
    "1. Em média, os homens são mais altos que as mulheres; as mulheres também parecem ficar mais baixas à medida que envelhecem, enquanto que nos homensuasua altusra atinmge o pico por volta dos 30 anos e depois lentamente começam a ficar mais baixas com a idade também:. existe uma correlação negativa entre idade e altura\r\n",
    "\r\n",
    "2. O peso das mulheres parece ser consistente, pois oscila entre 55kg e 58kg, caindo drasticamente após os 70 anos. Por outro lado, o peso dos homens aumenta até aos 35 anos e depois o seu peso diminui a um ritmo mais rápido do que o peso das mulheres ; isso pode ser causado pelo fato de que o homem médio começa a produzir menos testosterona após os 35 anos\r\n",
    "\r\n",
    "3. Este conjunto de dados mostra que o homem saudável médio tem uma visão melhor do que a mulher média. No entanto, a visão de ambos os sexos parece permanecer consistente até os 35 anos de idade, e depois parece que piora progressivamente.\r\n",
    "\r\n",
    "4. O conjunto de dados mostra que o homem médio é mais alto do que a mulher média; peso e altura parecem estar positivamente correlacionados.\r\n",
    "\r\n",
    "5. A cintura e o peso também parecem estar positivamente correlacionados. No entanto, a relação entre peso e cintura parece ser muito semelhante tanto para homens quanto para mulheres.\r\n",
    "\r\n",
    "6. Não parece haver qualquer correlação entre peso e visão; a ligeira queda no início deve-se ao fato de os idosos terem baixa massa corporal e pior visão, como mostrado em um gráfico anterior. A razão pela qual quis comparar o peso e a visão é porque levantei a hipótese de que pessoas mais pesadas teriam maior probabilidade de ter diabetes, o que afetaria a visão."
   ]
  },
  {
   "cell_type": "markdown",
   "id": "0a5aec1f-070d-446e-9e16-3de67bdce0bf",
   "metadata": {},
   "source": [
    "# Efeitos a longo prazo da bebida no corpo\r\n",
    "\r\n",
    "Agora, vou pegar uma amostra dpessoas que bebeme mass, que nunca fumaram, e ver como só a bebida afeta sseu corspoD depois vou comparar os dados que encontrei com os do grupo de controle."
   ]
  },
  {
   "cell_type": "code",
   "execution_count": null,
   "id": "76f2cf02-2c19-428f-af98-fe67d12263b6",
   "metadata": {},
   "outputs": [],
   "source": [
    "df_drink = df[(df.SMK_stat_type_cd == \"N\") & (df.DRK_YN == \"Y\")]\n",
    "df_drink.head()"
   ]
  },
  {
   "cell_type": "markdown",
   "id": "1af43958-efa9-45eb-b3c8-7a029c04113d",
   "metadata": {},
   "source": [
    "### Barriga de cerveja\r\n",
    "\r\n",
    "Normalmente, quando um alcoólatra envelhece, fica com barriga de cerveja devido ao excesso de calorias do álcool. Nesta seção da minha análise quero provar isso.\r\n",
    "\r\n",
    "As pessoas começam a ficar com barriga de cerveja depois dos 35 anos, então vou analisar esse substrato dos alcoólatras."
   ]
  },
  {
   "cell_type": "code",
   "execution_count": null,
   "id": "401f7023-bad7-4f5a-b2e1-f35d6bb4c661",
   "metadata": {},
   "outputs": [],
   "source": [
    "bb_df = df_drink[df_drink.age >= 35]\n",
    "bb_df.head()"
   ]
  },
  {
   "cell_type": "code",
   "execution_count": null,
   "id": "d562c732-48fc-411b-964c-b911dd4d1174",
   "metadata": {},
   "outputs": [],
   "source": [
    "control_for_bb = df_control[df_control.age >= 35]"
   ]
  },
  {
   "cell_type": "code",
   "execution_count": null,
   "id": "1bb7192c-a891-4677-b011-ed77eab93072",
   "metadata": {},
   "outputs": [],
   "source": [
    "bb_bmi = bb_df.weight/((bb_df.height/100) ** 2)\n",
    "normal_bmi = control_for_bb.weight/((control_for_bb.height/100) ** 2)\n",
    "\n",
    "sns.lineplot(x=control_for_bb.age, y=normal_bmi, label=\"Control\")\n",
    "sns.lineplot(x=bb_df.age, y=bb_bmi, label=\"Alcoholics\")\n",
    "plt.xlabel(\"Age\")\n",
    "plt.ylabel(\"BMI\")\n",
    "plt.title(\"Comparing ratio of weight per waistline against age\")\n",
    "plt.legend()\n",
    "plt.savefig(f\"{path}bmi_comparison_plot.jpeg\")\n",
    "plt.show()"
   ]
  },
  {
   "cell_type": "markdown",
   "id": "064393fc-6094-4f91-a78a-bd51bc2ad44e",
   "metadata": {},
   "source": [
    "### Conclusão - barriga de cerveja\r\n",
    "\r\n",
    "Há evidências que sugerem que as pessoas desenvolvem barriga de cerveja, pois o gráfico acima mostra que os alcoólatras tendem a ter um IMC mais elevado do que o grupo de controle, provavelmente devido ao excesso de calorias do álcool. No entanto, por volta dos 65 anos, tanto o IMC do grupo de controlo como do grupo alcoólatra parece ser muito semelhante e parece estar a diminuir rapidamente; isso pode ser devido a várias condições subjacentes que uma pessoa idosa pode ter."
   ]
  },
  {
   "cell_type": "markdown",
   "id": "1800c9b9-7b92-45d8-9f57-e611305d4c17",
   "metadata": {},
   "source": [
    "# Efeitos a longo prazo do fumo e da bebida no corpo\r\n",
    "\r\n",
    "Tanto fumar quanto beber afetam a audição, a visão e a vida, por isso analisarei juntos esses efeitos no corpo."
   ]
  },
  {
   "cell_type": "code",
   "execution_count": null,
   "id": "bc9bb4fb-b871-4146-a0af-6fe4a2b09dae",
   "metadata": {},
   "outputs": [],
   "source": [
    "df_sd = df[(df.SMK_stat_type_cd == \"Y\") & (df.DRK_YN == \"Y\")]\n",
    "df_sd.head()"
   ]
  },
  {
   "cell_type": "markdown",
   "id": "4cbc2399-f5a3-45cd-ab47-234979cfe9f1",
   "metadata": {},
   "source": [
    "## Perda de audição\r\n",
    "E existem algumas correlações entre fumar e beber e perda auditiva. Quero provar isso com este conjunto de dados."
   ]
  },
  {
   "cell_type": "code",
   "execution_count": null,
   "id": "75ede154-1457-463d-bdd2-38302c580522",
   "metadata": {},
   "outputs": [],
   "source": [
    "sns.countplot(x=df_control.hearing)\n",
    "sns.countplot(x=df_sd.hearing, palette={\"green\", \"purple\"})\n",
    "plt.title(\"Hearing for control group and smoking and drinking group\")\n",
    "plt.savefig(f\"{path}Hearing.jpeg\")\n",
    "plt.show()"
   ]
  },
  {
   "cell_type": "code",
   "execution_count": null,
   "id": "7a3c4030-6ecf-4911-8f50-121d69f66485",
   "metadata": {},
   "outputs": [],
   "source": [
    "control_normal = df_control.hearing.value_counts()[\"Normal\"]\n",
    "control_abnormal = df_control.hearing.value_counts()[\"Abnormal\"]\n",
    "control_ratio = control_normal/(control_abnormal + control_normal)\n",
    "\n",
    "sd_normal = df_sd.hearing.value_counts()[\"Normal\"]\n",
    "sd_abnormal = df_sd.hearing.value_counts()[\"Abnormal\"]\n",
    "sd_ratio = sd_normal/(sd_abnormal + sd_normal)\n",
    "\n",
    "print(\"(Higher percentage = better)\")\n",
    "print(f\"The percentage of people in the control group with normal hearing is {int(control_ratio * 100)}%\")\n",
    "print(f\"The percentage of people in the drinking and smoking group with normal hearing is {int(sd_ratio * 100)}%\")"
   ]
  },
  {
   "cell_type": "markdown",
   "id": "93f5bb7b-40ed-4c96-8ef3-7b2f6484a442",
   "metadata": {},
   "source": [
    " ### Conclusão sobre perda auditiva\r",
    " Os dados não apoiam a afirmação acima de que beber e fumar são mais prejudiciais para a audição, uma vez que existe uma percentagem maior de fumadores e bebedores que têm melhor audição do que o grupo de controlo.\r\n",
    "\r\n",
    " A razão pela qual a percentagem de pessoas no grupo de controle com audição normal é menor pode ser devido a outras condições subjacentes que possam ter."
   ]
  },
  {
   "cell_type": "markdown",
   "id": "5784915c-9d7b-4e5c-9077-a07ad9f85c95",
   "metadata": {},
   "source": [
    "## Força de visão."
   ]
  },
  {
   "cell_type": "code",
   "execution_count": null,
   "id": "391c823f-1d91-4b89-b250-a5fc3ee51781",
   "metadata": {},
   "outputs": [],
   "source": [
    "fig, axs = plt.subplots(1, 2, figsize=(16, 8))\n",
    "\n",
    "sns.lineplot(data=df_control, x=\"age\", y=\"sight_left\", label=\"Control\", ax=axs[0])\n",
    "sns.lineplot(data=df_sd, x=\"age\", y=\"sight_left\", label=\"Smoking and drinking\", ax=axs[0])\n",
    "axs[0].set_title(\"Left eye\")\n",
    "\n",
    "sns.lineplot(data=df_control, x=\"age\", y=\"sight_right\", label=\"Control\", ax=axs[1])\n",
    "sns.lineplot(data=df_sd, x=\"age\", y=\"sight_right\", label=\"Smoking and drinking\", ax=axs[1])\n",
    "axs[1].set_title(\"Right eye\")\n",
    "plt.savefig(f\"{path}eye_sight.jpeg\")\n",
    "plt.show()"
   ]
  },
  {
   "cell_type": "code",
   "execution_count": null,
   "id": "57034537-9ae2-4def-8850-e19f2d8b1c36",
   "metadata": {},
   "outputs": [],
   "source": [
    "mlflow.log_artifact(f'{path}')"
   ]
  }
 ],
 "metadata": {
  "kernelspec": {
   "display_name": "MLOps",
   "language": "python",
   "name": "mlops"
  },
  "language_info": {
   "codemirror_mode": {
    "name": "ipython",
    "version": 3
   },
   "file_extension": ".py",
   "mimetype": "text/x-python",
   "name": "python",
   "nbconvert_exporter": "python",
   "pygments_lexer": "ipython3",
   "version": "3.10.13"
  }
 },
 "nbformat": 4,
 "nbformat_minor": 5
}
