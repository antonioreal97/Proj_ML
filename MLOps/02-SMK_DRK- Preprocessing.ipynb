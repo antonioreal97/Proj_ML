{
 "cells": [
  {
   "cell_type": "code",
   "execution_count": 1,
   "id": "4bbd844d",
   "metadata": {
    "tags": []
   },
   "outputs": [],
   "source": [
    "import numpy as np\n",
    "import pandas as pd\n",
    "from tqdm.auto import tqdm"
   ]
  },
  {
   "cell_type": "code",
   "execution_count": 2,
   "id": "002eb06b-b601-47e5-826d-9df6324596fb",
   "metadata": {
    "tags": []
   },
   "outputs": [],
   "source": [
    "import warnings\n",
    "warnings.filterwarnings(\"ignore\")"
   ]
  },
  {
   "cell_type": "code",
   "execution_count": 33,
   "id": "022d3faf-08ad-4b29-bec9-6702cfdfad17",
   "metadata": {
    "tags": []
   },
   "outputs": [
    {
     "ename": "SyntaxError",
     "evalue": "invalid syntax (4194309078.py, line 2)",
     "output_type": "error",
     "traceback": [
      "\u001b[1;36m  Cell \u001b[1;32mIn[33], line 2\u001b[1;36m\u001b[0m\n\u001b[1;33m    mlflow ui --backend-store-uri sqlite:///mlflow.db\u001b[0m\n\u001b[1;37m           ^\u001b[0m\n\u001b[1;31mSyntaxError\u001b[0m\u001b[1;31m:\u001b[0m invalid syntax\n"
     ]
    }
   ],
   "source": [
    "import mlflow\n",
    "# mlflow ui --backend-store-uri sqlite:///mlflow.db\n",
    "# mlflow server --host 127.0.0.1 --port 5000\n",
    "mlflow.set_tracking_uri(\"sqlite:///mlflow.db\")\n",
    "mlflow.set_experiment(\"drinking\")\n",
    "mlflow.set_tracking_uri(\"http://127.0.0.1:5000\")"
   ]
  },
  {
   "cell_type": "code",
   "execution_count": 4,
   "id": "ee65141e-b1e3-462b-a07f-3ab613e8239f",
   "metadata": {
    "tags": []
   },
   "outputs": [],
   "source": [
    "mlflow.autolog()"
   ]
  },
  {
   "cell_type": "code",
   "execution_count": 5,
   "id": "36066282-7680-49c7-998b-2fc391fe8a79",
   "metadata": {
    "tags": []
   },
   "outputs": [],
   "source": [
    "tqdm.pandas()"
   ]
  },
  {
   "cell_type": "code",
   "execution_count": 6,
   "id": "24f0fc2d-f326-46c3-9f6e-50e4a710ea68",
   "metadata": {
    "tags": []
   },
   "outputs": [],
   "source": [
    "path = 'Artefacts/'"
   ]
  },
  {
   "cell_type": "code",
   "execution_count": 7,
   "id": "1b175aa0-cea2-4600-ac1d-4b649ecb3471",
   "metadata": {
    "scrolled": true,
    "tags": []
   },
   "outputs": [],
   "source": [
    "df = pd.read_parquet(\"Data/smoking_drinking.parquet\")"
   ]
  },
  {
   "cell_type": "code",
   "execution_count": null,
   "id": "d3425382-08bf-4c51-b579-fc084019fc1c",
   "metadata": {
    "tags": []
   },
   "outputs": [],
   "source": [
    "df"
   ]
  },
  {
   "cell_type": "code",
   "execution_count": null,
   "id": "c4c9b801",
   "metadata": {
    "tags": []
   },
   "outputs": [],
   "source": [
    "df.info()"
   ]
  },
  {
   "cell_type": "code",
   "execution_count": 8,
   "id": "675f7422-2a56-419e-9e7a-80b923f8e9e0",
   "metadata": {},
   "outputs": [
    {
     "data": {
      "text/html": [
       "<div>\n",
       "<style scoped>\n",
       "    .dataframe tbody tr th:only-of-type {\n",
       "        vertical-align: middle;\n",
       "    }\n",
       "\n",
       "    .dataframe tbody tr th {\n",
       "        vertical-align: top;\n",
       "    }\n",
       "\n",
       "    .dataframe thead th {\n",
       "        text-align: right;\n",
       "    }\n",
       "</style>\n",
       "<table border=\"1\" class=\"dataframe\">\n",
       "  <thead>\n",
       "    <tr style=\"text-align: right;\">\n",
       "      <th></th>\n",
       "      <th>age</th>\n",
       "      <th>height</th>\n",
       "      <th>weight</th>\n",
       "      <th>waistline</th>\n",
       "      <th>sight_left</th>\n",
       "      <th>sight_right</th>\n",
       "      <th>hear_left</th>\n",
       "      <th>hear_right</th>\n",
       "      <th>SBP</th>\n",
       "      <th>DBP</th>\n",
       "      <th>...</th>\n",
       "      <th>HDL_chole</th>\n",
       "      <th>LDL_chole</th>\n",
       "      <th>triglyceride</th>\n",
       "      <th>hemoglobin</th>\n",
       "      <th>urine_protein</th>\n",
       "      <th>serum_creatinine</th>\n",
       "      <th>SGOT_AST</th>\n",
       "      <th>SGOT_ALT</th>\n",
       "      <th>gamma_GTP</th>\n",
       "      <th>SMK_stat_type_cd</th>\n",
       "    </tr>\n",
       "  </thead>\n",
       "  <tbody>\n",
       "    <tr>\n",
       "      <th>count</th>\n",
       "      <td>991346.000000</td>\n",
       "      <td>991346.000000</td>\n",
       "      <td>991346.000000</td>\n",
       "      <td>991346.000000</td>\n",
       "      <td>991346.000000</td>\n",
       "      <td>991346.000000</td>\n",
       "      <td>991346.000000</td>\n",
       "      <td>991346.000000</td>\n",
       "      <td>991346.000000</td>\n",
       "      <td>991346.000000</td>\n",
       "      <td>...</td>\n",
       "      <td>991346.000000</td>\n",
       "      <td>991346.000000</td>\n",
       "      <td>991346.000000</td>\n",
       "      <td>991346.000000</td>\n",
       "      <td>991346.000000</td>\n",
       "      <td>991346.000000</td>\n",
       "      <td>991346.000000</td>\n",
       "      <td>991346.000000</td>\n",
       "      <td>991346.000000</td>\n",
       "      <td>991346.000000</td>\n",
       "    </tr>\n",
       "    <tr>\n",
       "      <th>mean</th>\n",
       "      <td>47.614491</td>\n",
       "      <td>162.240625</td>\n",
       "      <td>63.284050</td>\n",
       "      <td>81.233358</td>\n",
       "      <td>0.980834</td>\n",
       "      <td>0.978429</td>\n",
       "      <td>1.031495</td>\n",
       "      <td>1.030476</td>\n",
       "      <td>122.432498</td>\n",
       "      <td>76.052627</td>\n",
       "      <td>...</td>\n",
       "      <td>56.936800</td>\n",
       "      <td>113.037692</td>\n",
       "      <td>132.141751</td>\n",
       "      <td>14.229824</td>\n",
       "      <td>1.094224</td>\n",
       "      <td>0.860467</td>\n",
       "      <td>25.989308</td>\n",
       "      <td>25.755051</td>\n",
       "      <td>37.136347</td>\n",
       "      <td>1.608122</td>\n",
       "    </tr>\n",
       "    <tr>\n",
       "      <th>std</th>\n",
       "      <td>14.181339</td>\n",
       "      <td>9.282957</td>\n",
       "      <td>12.514241</td>\n",
       "      <td>11.850323</td>\n",
       "      <td>0.605949</td>\n",
       "      <td>0.604774</td>\n",
       "      <td>0.174650</td>\n",
       "      <td>0.171892</td>\n",
       "      <td>14.543148</td>\n",
       "      <td>9.889365</td>\n",
       "      <td>...</td>\n",
       "      <td>17.238479</td>\n",
       "      <td>35.842812</td>\n",
       "      <td>102.196985</td>\n",
       "      <td>1.584929</td>\n",
       "      <td>0.437724</td>\n",
       "      <td>0.480530</td>\n",
       "      <td>23.493386</td>\n",
       "      <td>26.308599</td>\n",
       "      <td>50.424153</td>\n",
       "      <td>0.818507</td>\n",
       "    </tr>\n",
       "    <tr>\n",
       "      <th>min</th>\n",
       "      <td>20.000000</td>\n",
       "      <td>130.000000</td>\n",
       "      <td>25.000000</td>\n",
       "      <td>8.000000</td>\n",
       "      <td>0.100000</td>\n",
       "      <td>0.100000</td>\n",
       "      <td>1.000000</td>\n",
       "      <td>1.000000</td>\n",
       "      <td>67.000000</td>\n",
       "      <td>32.000000</td>\n",
       "      <td>...</td>\n",
       "      <td>1.000000</td>\n",
       "      <td>1.000000</td>\n",
       "      <td>1.000000</td>\n",
       "      <td>1.000000</td>\n",
       "      <td>1.000000</td>\n",
       "      <td>0.100000</td>\n",
       "      <td>1.000000</td>\n",
       "      <td>1.000000</td>\n",
       "      <td>1.000000</td>\n",
       "      <td>1.000000</td>\n",
       "    </tr>\n",
       "    <tr>\n",
       "      <th>25%</th>\n",
       "      <td>35.000000</td>\n",
       "      <td>155.000000</td>\n",
       "      <td>55.000000</td>\n",
       "      <td>74.100000</td>\n",
       "      <td>0.700000</td>\n",
       "      <td>0.700000</td>\n",
       "      <td>1.000000</td>\n",
       "      <td>1.000000</td>\n",
       "      <td>112.000000</td>\n",
       "      <td>70.000000</td>\n",
       "      <td>...</td>\n",
       "      <td>46.000000</td>\n",
       "      <td>89.000000</td>\n",
       "      <td>73.000000</td>\n",
       "      <td>13.200000</td>\n",
       "      <td>1.000000</td>\n",
       "      <td>0.700000</td>\n",
       "      <td>19.000000</td>\n",
       "      <td>15.000000</td>\n",
       "      <td>16.000000</td>\n",
       "      <td>1.000000</td>\n",
       "    </tr>\n",
       "    <tr>\n",
       "      <th>50%</th>\n",
       "      <td>45.000000</td>\n",
       "      <td>160.000000</td>\n",
       "      <td>60.000000</td>\n",
       "      <td>81.000000</td>\n",
       "      <td>1.000000</td>\n",
       "      <td>1.000000</td>\n",
       "      <td>1.000000</td>\n",
       "      <td>1.000000</td>\n",
       "      <td>120.000000</td>\n",
       "      <td>76.000000</td>\n",
       "      <td>...</td>\n",
       "      <td>55.000000</td>\n",
       "      <td>111.000000</td>\n",
       "      <td>106.000000</td>\n",
       "      <td>14.300000</td>\n",
       "      <td>1.000000</td>\n",
       "      <td>0.800000</td>\n",
       "      <td>23.000000</td>\n",
       "      <td>20.000000</td>\n",
       "      <td>23.000000</td>\n",
       "      <td>1.000000</td>\n",
       "    </tr>\n",
       "    <tr>\n",
       "      <th>75%</th>\n",
       "      <td>60.000000</td>\n",
       "      <td>170.000000</td>\n",
       "      <td>70.000000</td>\n",
       "      <td>87.800000</td>\n",
       "      <td>1.200000</td>\n",
       "      <td>1.200000</td>\n",
       "      <td>1.000000</td>\n",
       "      <td>1.000000</td>\n",
       "      <td>131.000000</td>\n",
       "      <td>82.000000</td>\n",
       "      <td>...</td>\n",
       "      <td>66.000000</td>\n",
       "      <td>135.000000</td>\n",
       "      <td>159.000000</td>\n",
       "      <td>15.400000</td>\n",
       "      <td>1.000000</td>\n",
       "      <td>1.000000</td>\n",
       "      <td>28.000000</td>\n",
       "      <td>29.000000</td>\n",
       "      <td>39.000000</td>\n",
       "      <td>2.000000</td>\n",
       "    </tr>\n",
       "    <tr>\n",
       "      <th>max</th>\n",
       "      <td>85.000000</td>\n",
       "      <td>190.000000</td>\n",
       "      <td>140.000000</td>\n",
       "      <td>999.000000</td>\n",
       "      <td>9.900000</td>\n",
       "      <td>9.900000</td>\n",
       "      <td>2.000000</td>\n",
       "      <td>2.000000</td>\n",
       "      <td>273.000000</td>\n",
       "      <td>185.000000</td>\n",
       "      <td>...</td>\n",
       "      <td>8110.000000</td>\n",
       "      <td>5119.000000</td>\n",
       "      <td>9490.000000</td>\n",
       "      <td>25.000000</td>\n",
       "      <td>6.000000</td>\n",
       "      <td>98.000000</td>\n",
       "      <td>9999.000000</td>\n",
       "      <td>7210.000000</td>\n",
       "      <td>999.000000</td>\n",
       "      <td>3.000000</td>\n",
       "    </tr>\n",
       "  </tbody>\n",
       "</table>\n",
       "<p>8 rows × 22 columns</p>\n",
       "</div>"
      ],
      "text/plain": [
       "                 age         height         weight      waistline  \\\n",
       "count  991346.000000  991346.000000  991346.000000  991346.000000   \n",
       "mean       47.614491     162.240625      63.284050      81.233358   \n",
       "std        14.181339       9.282957      12.514241      11.850323   \n",
       "min        20.000000     130.000000      25.000000       8.000000   \n",
       "25%        35.000000     155.000000      55.000000      74.100000   \n",
       "50%        45.000000     160.000000      60.000000      81.000000   \n",
       "75%        60.000000     170.000000      70.000000      87.800000   \n",
       "max        85.000000     190.000000     140.000000     999.000000   \n",
       "\n",
       "          sight_left    sight_right      hear_left     hear_right  \\\n",
       "count  991346.000000  991346.000000  991346.000000  991346.000000   \n",
       "mean        0.980834       0.978429       1.031495       1.030476   \n",
       "std         0.605949       0.604774       0.174650       0.171892   \n",
       "min         0.100000       0.100000       1.000000       1.000000   \n",
       "25%         0.700000       0.700000       1.000000       1.000000   \n",
       "50%         1.000000       1.000000       1.000000       1.000000   \n",
       "75%         1.200000       1.200000       1.000000       1.000000   \n",
       "max         9.900000       9.900000       2.000000       2.000000   \n",
       "\n",
       "                 SBP            DBP  ...      HDL_chole      LDL_chole  \\\n",
       "count  991346.000000  991346.000000  ...  991346.000000  991346.000000   \n",
       "mean      122.432498      76.052627  ...      56.936800     113.037692   \n",
       "std        14.543148       9.889365  ...      17.238479      35.842812   \n",
       "min        67.000000      32.000000  ...       1.000000       1.000000   \n",
       "25%       112.000000      70.000000  ...      46.000000      89.000000   \n",
       "50%       120.000000      76.000000  ...      55.000000     111.000000   \n",
       "75%       131.000000      82.000000  ...      66.000000     135.000000   \n",
       "max       273.000000     185.000000  ...    8110.000000    5119.000000   \n",
       "\n",
       "        triglyceride     hemoglobin  urine_protein  serum_creatinine  \\\n",
       "count  991346.000000  991346.000000  991346.000000     991346.000000   \n",
       "mean      132.141751      14.229824       1.094224          0.860467   \n",
       "std       102.196985       1.584929       0.437724          0.480530   \n",
       "min         1.000000       1.000000       1.000000          0.100000   \n",
       "25%        73.000000      13.200000       1.000000          0.700000   \n",
       "50%       106.000000      14.300000       1.000000          0.800000   \n",
       "75%       159.000000      15.400000       1.000000          1.000000   \n",
       "max      9490.000000      25.000000       6.000000         98.000000   \n",
       "\n",
       "            SGOT_AST       SGOT_ALT      gamma_GTP  SMK_stat_type_cd  \n",
       "count  991346.000000  991346.000000  991346.000000     991346.000000  \n",
       "mean       25.989308      25.755051      37.136347          1.608122  \n",
       "std        23.493386      26.308599      50.424153          0.818507  \n",
       "min         1.000000       1.000000       1.000000          1.000000  \n",
       "25%        19.000000      15.000000      16.000000          1.000000  \n",
       "50%        23.000000      20.000000      23.000000          1.000000  \n",
       "75%        28.000000      29.000000      39.000000          2.000000  \n",
       "max      9999.000000    7210.000000     999.000000          3.000000  \n",
       "\n",
       "[8 rows x 22 columns]"
      ]
     },
     "execution_count": 8,
     "metadata": {},
     "output_type": "execute_result"
    }
   ],
   "source": [
    "df.describe()"
   ]
  },
  {
   "cell_type": "code",
   "execution_count": 9,
   "id": "fe104208",
   "metadata": {
    "tags": []
   },
   "outputs": [
    {
     "data": {
      "text/html": [
       "<div>\n",
       "<style scoped>\n",
       "    .dataframe tbody tr th:only-of-type {\n",
       "        vertical-align: middle;\n",
       "    }\n",
       "\n",
       "    .dataframe tbody tr th {\n",
       "        vertical-align: top;\n",
       "    }\n",
       "\n",
       "    .dataframe thead th {\n",
       "        text-align: right;\n",
       "    }\n",
       "</style>\n",
       "<table border=\"1\" class=\"dataframe\">\n",
       "  <thead>\n",
       "    <tr style=\"text-align: right;\">\n",
       "      <th></th>\n",
       "      <th>sex</th>\n",
       "      <th>age</th>\n",
       "      <th>height</th>\n",
       "      <th>weight</th>\n",
       "      <th>waistline</th>\n",
       "      <th>sight_left</th>\n",
       "      <th>sight_right</th>\n",
       "      <th>hear_left</th>\n",
       "      <th>hear_right</th>\n",
       "      <th>SBP</th>\n",
       "      <th>...</th>\n",
       "      <th>LDL_chole</th>\n",
       "      <th>triglyceride</th>\n",
       "      <th>hemoglobin</th>\n",
       "      <th>urine_protein</th>\n",
       "      <th>serum_creatinine</th>\n",
       "      <th>SGOT_AST</th>\n",
       "      <th>SGOT_ALT</th>\n",
       "      <th>gamma_GTP</th>\n",
       "      <th>SMK_stat_type_cd</th>\n",
       "      <th>DRK_YN</th>\n",
       "    </tr>\n",
       "  </thead>\n",
       "  <tbody>\n",
       "  </tbody>\n",
       "</table>\n",
       "<p>0 rows × 24 columns</p>\n",
       "</div>"
      ],
      "text/plain": [
       "Empty DataFrame\n",
       "Columns: [sex, age, height, weight, waistline, sight_left, sight_right, hear_left, hear_right, SBP, DBP, BLDS, tot_chole, HDL_chole, LDL_chole, triglyceride, hemoglobin, urine_protein, serum_creatinine, SGOT_AST, SGOT_ALT, gamma_GTP, SMK_stat_type_cd, DRK_YN]\n",
       "Index: []\n",
       "\n",
       "[0 rows x 24 columns]"
      ]
     },
     "execution_count": 9,
     "metadata": {},
     "output_type": "execute_result"
    }
   ],
   "source": [
    "df[df.isnull().any(axis=1)]"
   ]
  },
  {
   "cell_type": "code",
   "execution_count": 10,
   "id": "03c9fbfb",
   "metadata": {
    "tags": []
   },
   "outputs": [
    {
     "data": {
      "text/plain": [
       "(26, 24)"
      ]
     },
     "execution_count": 10,
     "metadata": {},
     "output_type": "execute_result"
    }
   ],
   "source": [
    "df[df.duplicated].shape"
   ]
  },
  {
   "cell_type": "code",
   "execution_count": 11,
   "id": "0d8d3fce",
   "metadata": {
    "tags": []
   },
   "outputs": [],
   "source": [
    "df.drop_duplicates(inplace=True)"
   ]
  },
  {
   "cell_type": "code",
   "execution_count": 12,
   "id": "704e253a",
   "metadata": {
    "tags": []
   },
   "outputs": [
    {
     "data": {
      "text/plain": [
       "(0, 24)"
      ]
     },
     "execution_count": 12,
     "metadata": {},
     "output_type": "execute_result"
    }
   ],
   "source": [
    "df[df.duplicated].shape"
   ]
  },
  {
   "cell_type": "code",
   "execution_count": 13,
   "id": "14c0b233-4a96-430e-9882-420ed5937a78",
   "metadata": {},
   "outputs": [],
   "source": [
    "def remove_outliers(df, columns, k=1.5):\n",
    "    for column in columns:\n",
    "        q1 = df[column].quantile(0.25)\n",
    "        q3 = df[column].quantile(0.75) \n",
    "        iqr = q3 - q1\n",
    "        df[column] = df[column].clip(lower=q1 - k * iqr, upper=q3 + k * iqr)\n",
    "\n",
    "    return df"
   ]
  },
  {
   "cell_type": "code",
   "execution_count": 14,
   "id": "82b3ab02-4a75-46b7-8a39-ad42c1864270",
   "metadata": {},
   "outputs": [
    {
     "data": {
      "text/html": [
       "<div>\n",
       "<style scoped>\n",
       "    .dataframe tbody tr th:only-of-type {\n",
       "        vertical-align: middle;\n",
       "    }\n",
       "\n",
       "    .dataframe tbody tr th {\n",
       "        vertical-align: top;\n",
       "    }\n",
       "\n",
       "    .dataframe thead th {\n",
       "        text-align: right;\n",
       "    }\n",
       "</style>\n",
       "<table border=\"1\" class=\"dataframe\">\n",
       "  <thead>\n",
       "    <tr style=\"text-align: right;\">\n",
       "      <th></th>\n",
       "      <th>sex</th>\n",
       "      <th>age</th>\n",
       "      <th>height</th>\n",
       "      <th>weight</th>\n",
       "      <th>waistline</th>\n",
       "      <th>sight_left</th>\n",
       "      <th>sight_right</th>\n",
       "      <th>hear_left</th>\n",
       "      <th>hear_right</th>\n",
       "      <th>SBP</th>\n",
       "      <th>...</th>\n",
       "      <th>LDL_chole</th>\n",
       "      <th>triglyceride</th>\n",
       "      <th>hemoglobin</th>\n",
       "      <th>urine_protein</th>\n",
       "      <th>serum_creatinine</th>\n",
       "      <th>SGOT_AST</th>\n",
       "      <th>SGOT_ALT</th>\n",
       "      <th>gamma_GTP</th>\n",
       "      <th>SMK_stat_type_cd</th>\n",
       "      <th>DRK_YN</th>\n",
       "    </tr>\n",
       "  </thead>\n",
       "  <tbody>\n",
       "    <tr>\n",
       "      <th>0</th>\n",
       "      <td>Male</td>\n",
       "      <td>35</td>\n",
       "      <td>170</td>\n",
       "      <td>75</td>\n",
       "      <td>90.0</td>\n",
       "      <td>1.0</td>\n",
       "      <td>1.0</td>\n",
       "      <td>1.0</td>\n",
       "      <td>1.0</td>\n",
       "      <td>120.0</td>\n",
       "      <td>...</td>\n",
       "      <td>126.0</td>\n",
       "      <td>92.0</td>\n",
       "      <td>17.1</td>\n",
       "      <td>1.0</td>\n",
       "      <td>1.0</td>\n",
       "      <td>21.0</td>\n",
       "      <td>35.0</td>\n",
       "      <td>40.0</td>\n",
       "      <td>1.0</td>\n",
       "      <td>Y</td>\n",
       "    </tr>\n",
       "    <tr>\n",
       "      <th>1</th>\n",
       "      <td>Male</td>\n",
       "      <td>30</td>\n",
       "      <td>180</td>\n",
       "      <td>80</td>\n",
       "      <td>89.0</td>\n",
       "      <td>0.9</td>\n",
       "      <td>1.2</td>\n",
       "      <td>1.0</td>\n",
       "      <td>1.0</td>\n",
       "      <td>130.0</td>\n",
       "      <td>...</td>\n",
       "      <td>148.0</td>\n",
       "      <td>121.0</td>\n",
       "      <td>15.8</td>\n",
       "      <td>1.0</td>\n",
       "      <td>0.9</td>\n",
       "      <td>20.0</td>\n",
       "      <td>36.0</td>\n",
       "      <td>27.0</td>\n",
       "      <td>3.0</td>\n",
       "      <td>N</td>\n",
       "    </tr>\n",
       "    <tr>\n",
       "      <th>2</th>\n",
       "      <td>Male</td>\n",
       "      <td>40</td>\n",
       "      <td>165</td>\n",
       "      <td>75</td>\n",
       "      <td>91.0</td>\n",
       "      <td>1.2</td>\n",
       "      <td>1.5</td>\n",
       "      <td>1.0</td>\n",
       "      <td>1.0</td>\n",
       "      <td>120.0</td>\n",
       "      <td>...</td>\n",
       "      <td>74.0</td>\n",
       "      <td>104.0</td>\n",
       "      <td>15.8</td>\n",
       "      <td>1.0</td>\n",
       "      <td>0.9</td>\n",
       "      <td>41.5</td>\n",
       "      <td>32.0</td>\n",
       "      <td>68.0</td>\n",
       "      <td>1.0</td>\n",
       "      <td>N</td>\n",
       "    </tr>\n",
       "    <tr>\n",
       "      <th>3</th>\n",
       "      <td>Male</td>\n",
       "      <td>50</td>\n",
       "      <td>175</td>\n",
       "      <td>80</td>\n",
       "      <td>91.0</td>\n",
       "      <td>1.5</td>\n",
       "      <td>1.2</td>\n",
       "      <td>1.0</td>\n",
       "      <td>1.0</td>\n",
       "      <td>145.0</td>\n",
       "      <td>...</td>\n",
       "      <td>104.0</td>\n",
       "      <td>106.0</td>\n",
       "      <td>17.6</td>\n",
       "      <td>1.0</td>\n",
       "      <td>1.1</td>\n",
       "      <td>29.0</td>\n",
       "      <td>34.0</td>\n",
       "      <td>18.0</td>\n",
       "      <td>1.0</td>\n",
       "      <td>N</td>\n",
       "    </tr>\n",
       "    <tr>\n",
       "      <th>4</th>\n",
       "      <td>Male</td>\n",
       "      <td>50</td>\n",
       "      <td>165</td>\n",
       "      <td>60</td>\n",
       "      <td>80.0</td>\n",
       "      <td>1.0</td>\n",
       "      <td>1.2</td>\n",
       "      <td>1.0</td>\n",
       "      <td>1.0</td>\n",
       "      <td>138.0</td>\n",
       "      <td>...</td>\n",
       "      <td>117.0</td>\n",
       "      <td>104.0</td>\n",
       "      <td>13.8</td>\n",
       "      <td>1.0</td>\n",
       "      <td>0.8</td>\n",
       "      <td>19.0</td>\n",
       "      <td>12.0</td>\n",
       "      <td>25.0</td>\n",
       "      <td>1.0</td>\n",
       "      <td>N</td>\n",
       "    </tr>\n",
       "    <tr>\n",
       "      <th>...</th>\n",
       "      <td>...</td>\n",
       "      <td>...</td>\n",
       "      <td>...</td>\n",
       "      <td>...</td>\n",
       "      <td>...</td>\n",
       "      <td>...</td>\n",
       "      <td>...</td>\n",
       "      <td>...</td>\n",
       "      <td>...</td>\n",
       "      <td>...</td>\n",
       "      <td>...</td>\n",
       "      <td>...</td>\n",
       "      <td>...</td>\n",
       "      <td>...</td>\n",
       "      <td>...</td>\n",
       "      <td>...</td>\n",
       "      <td>...</td>\n",
       "      <td>...</td>\n",
       "      <td>...</td>\n",
       "      <td>...</td>\n",
       "      <td>...</td>\n",
       "    </tr>\n",
       "    <tr>\n",
       "      <th>991341</th>\n",
       "      <td>Male</td>\n",
       "      <td>45</td>\n",
       "      <td>175</td>\n",
       "      <td>80</td>\n",
       "      <td>92.1</td>\n",
       "      <td>1.5</td>\n",
       "      <td>1.5</td>\n",
       "      <td>1.0</td>\n",
       "      <td>1.0</td>\n",
       "      <td>114.0</td>\n",
       "      <td>...</td>\n",
       "      <td>125.0</td>\n",
       "      <td>132.0</td>\n",
       "      <td>15.0</td>\n",
       "      <td>1.0</td>\n",
       "      <td>1.0</td>\n",
       "      <td>26.0</td>\n",
       "      <td>36.0</td>\n",
       "      <td>27.0</td>\n",
       "      <td>1.0</td>\n",
       "      <td>N</td>\n",
       "    </tr>\n",
       "    <tr>\n",
       "      <th>991342</th>\n",
       "      <td>Male</td>\n",
       "      <td>35</td>\n",
       "      <td>170</td>\n",
       "      <td>75</td>\n",
       "      <td>86.0</td>\n",
       "      <td>1.0</td>\n",
       "      <td>1.5</td>\n",
       "      <td>1.0</td>\n",
       "      <td>1.0</td>\n",
       "      <td>119.0</td>\n",
       "      <td>...</td>\n",
       "      <td>84.0</td>\n",
       "      <td>45.0</td>\n",
       "      <td>15.8</td>\n",
       "      <td>1.0</td>\n",
       "      <td>1.1</td>\n",
       "      <td>14.0</td>\n",
       "      <td>17.0</td>\n",
       "      <td>15.0</td>\n",
       "      <td>1.0</td>\n",
       "      <td>N</td>\n",
       "    </tr>\n",
       "    <tr>\n",
       "      <th>991343</th>\n",
       "      <td>Female</td>\n",
       "      <td>40</td>\n",
       "      <td>155</td>\n",
       "      <td>50</td>\n",
       "      <td>68.0</td>\n",
       "      <td>1.0</td>\n",
       "      <td>0.7</td>\n",
       "      <td>1.0</td>\n",
       "      <td>1.0</td>\n",
       "      <td>110.0</td>\n",
       "      <td>...</td>\n",
       "      <td>77.0</td>\n",
       "      <td>157.0</td>\n",
       "      <td>14.3</td>\n",
       "      <td>1.0</td>\n",
       "      <td>0.8</td>\n",
       "      <td>30.0</td>\n",
       "      <td>27.0</td>\n",
       "      <td>17.0</td>\n",
       "      <td>3.0</td>\n",
       "      <td>Y</td>\n",
       "    </tr>\n",
       "    <tr>\n",
       "      <th>991344</th>\n",
       "      <td>Male</td>\n",
       "      <td>25</td>\n",
       "      <td>175</td>\n",
       "      <td>60</td>\n",
       "      <td>72.0</td>\n",
       "      <td>1.5</td>\n",
       "      <td>1.0</td>\n",
       "      <td>1.0</td>\n",
       "      <td>1.0</td>\n",
       "      <td>119.0</td>\n",
       "      <td>...</td>\n",
       "      <td>73.0</td>\n",
       "      <td>53.0</td>\n",
       "      <td>14.5</td>\n",
       "      <td>1.0</td>\n",
       "      <td>0.8</td>\n",
       "      <td>21.0</td>\n",
       "      <td>14.0</td>\n",
       "      <td>17.0</td>\n",
       "      <td>1.0</td>\n",
       "      <td>N</td>\n",
       "    </tr>\n",
       "    <tr>\n",
       "      <th>991345</th>\n",
       "      <td>Male</td>\n",
       "      <td>50</td>\n",
       "      <td>160</td>\n",
       "      <td>70</td>\n",
       "      <td>90.5</td>\n",
       "      <td>1.0</td>\n",
       "      <td>1.5</td>\n",
       "      <td>1.0</td>\n",
       "      <td>1.0</td>\n",
       "      <td>133.0</td>\n",
       "      <td>...</td>\n",
       "      <td>153.0</td>\n",
       "      <td>163.0</td>\n",
       "      <td>15.8</td>\n",
       "      <td>1.0</td>\n",
       "      <td>0.9</td>\n",
       "      <td>24.0</td>\n",
       "      <td>43.0</td>\n",
       "      <td>36.0</td>\n",
       "      <td>3.0</td>\n",
       "      <td>Y</td>\n",
       "    </tr>\n",
       "  </tbody>\n",
       "</table>\n",
       "<p>991320 rows × 24 columns</p>\n",
       "</div>"
      ],
      "text/plain": [
       "           sex  age  height  weight  waistline  sight_left  sight_right  \\\n",
       "0         Male   35     170      75       90.0         1.0          1.0   \n",
       "1         Male   30     180      80       89.0         0.9          1.2   \n",
       "2         Male   40     165      75       91.0         1.2          1.5   \n",
       "3         Male   50     175      80       91.0         1.5          1.2   \n",
       "4         Male   50     165      60       80.0         1.0          1.2   \n",
       "...        ...  ...     ...     ...        ...         ...          ...   \n",
       "991341    Male   45     175      80       92.1         1.5          1.5   \n",
       "991342    Male   35     170      75       86.0         1.0          1.5   \n",
       "991343  Female   40     155      50       68.0         1.0          0.7   \n",
       "991344    Male   25     175      60       72.0         1.5          1.0   \n",
       "991345    Male   50     160      70       90.5         1.0          1.5   \n",
       "\n",
       "        hear_left  hear_right    SBP  ...  LDL_chole  triglyceride  \\\n",
       "0             1.0         1.0  120.0  ...      126.0          92.0   \n",
       "1             1.0         1.0  130.0  ...      148.0         121.0   \n",
       "2             1.0         1.0  120.0  ...       74.0         104.0   \n",
       "3             1.0         1.0  145.0  ...      104.0         106.0   \n",
       "4             1.0         1.0  138.0  ...      117.0         104.0   \n",
       "...           ...         ...    ...  ...        ...           ...   \n",
       "991341        1.0         1.0  114.0  ...      125.0         132.0   \n",
       "991342        1.0         1.0  119.0  ...       84.0          45.0   \n",
       "991343        1.0         1.0  110.0  ...       77.0         157.0   \n",
       "991344        1.0         1.0  119.0  ...       73.0          53.0   \n",
       "991345        1.0         1.0  133.0  ...      153.0         163.0   \n",
       "\n",
       "        hemoglobin  urine_protein  serum_creatinine  SGOT_AST  SGOT_ALT  \\\n",
       "0             17.1            1.0               1.0      21.0      35.0   \n",
       "1             15.8            1.0               0.9      20.0      36.0   \n",
       "2             15.8            1.0               0.9      41.5      32.0   \n",
       "3             17.6            1.0               1.1      29.0      34.0   \n",
       "4             13.8            1.0               0.8      19.0      12.0   \n",
       "...            ...            ...               ...       ...       ...   \n",
       "991341        15.0            1.0               1.0      26.0      36.0   \n",
       "991342        15.8            1.0               1.1      14.0      17.0   \n",
       "991343        14.3            1.0               0.8      30.0      27.0   \n",
       "991344        14.5            1.0               0.8      21.0      14.0   \n",
       "991345        15.8            1.0               0.9      24.0      43.0   \n",
       "\n",
       "        gamma_GTP  SMK_stat_type_cd  DRK_YN  \n",
       "0            40.0               1.0       Y  \n",
       "1            27.0               3.0       N  \n",
       "2            68.0               1.0       N  \n",
       "3            18.0               1.0       N  \n",
       "4            25.0               1.0       N  \n",
       "...           ...               ...     ...  \n",
       "991341       27.0               1.0       N  \n",
       "991342       15.0               1.0       N  \n",
       "991343       17.0               3.0       Y  \n",
       "991344       17.0               1.0       N  \n",
       "991345       36.0               3.0       Y  \n",
       "\n",
       "[991320 rows x 24 columns]"
      ]
     },
     "execution_count": 14,
     "metadata": {},
     "output_type": "execute_result"
    }
   ],
   "source": [
    "remove_outliers(df,['waistline','SBP', 'DBP','BLDS','tot_chole','triglyceride','serum_creatinine','SGOT_AST', 'SGOT_ALT'],k=1.5)"
   ]
  },
  {
   "cell_type": "code",
   "execution_count": 15,
   "id": "ded980dd-da83-4e8c-9d21-eb814f6ac879",
   "metadata": {
    "tags": []
   },
   "outputs": [],
   "source": [
    "df['sex'] = np.where(df['sex'].values=='Female',0,1)"
   ]
  },
  {
   "cell_type": "code",
   "execution_count": 16,
   "id": "7c0afedb-45cc-4e25-9aed-e79d10536beb",
   "metadata": {},
   "outputs": [],
   "source": [
    "df['DRK_YN'] = np.where(df['DRK_YN'].values=='N',0,1)"
   ]
  },
  {
   "cell_type": "code",
   "execution_count": 17,
   "id": "132aedcb-be3c-414f-b335-13c1602a5045",
   "metadata": {},
   "outputs": [],
   "source": [
    "def get_bmi(row):\n",
    "    weight = row[\"weight\"]\n",
    "    height = row[\"height\"]\n",
    "    return weight / (height ** 2)"
   ]
  },
  {
   "cell_type": "code",
   "execution_count": 18,
   "id": "d9664a3f-a202-4a0c-960e-1b0cbc7320e3",
   "metadata": {},
   "outputs": [],
   "source": [
    "def get_blood_pressure_ratio(row):\n",
    "    sbp = row[\"SBP\"]\n",
    "    dbp = row[\"DBP\"]\n",
    "    return sbp / dbp"
   ]
  },
  {
   "cell_type": "code",
   "execution_count": 19,
   "id": "6ac73118-2b8b-4791-8bb8-0c845f7df065",
   "metadata": {},
   "outputs": [],
   "source": [
    "def get_hdl_cholestorol_ratio(row):\n",
    "    hdl_chole = row[\"HDL_chole\"]\n",
    "    total_chole = row[\"tot_chole\"]\n",
    "    return hdl_chole / total_chole"
   ]
  },
  {
   "cell_type": "code",
   "execution_count": 20,
   "id": "21939dfa-e930-4dbf-9813-1a5fbb398aa8",
   "metadata": {},
   "outputs": [],
   "source": [
    "def get_ldl_cholestorol_ratio(row):\n",
    "    ldl_chole = row[\"LDL_chole\"]\n",
    "    total_chole = row[\"tot_chole\"]\n",
    "    return ldl_chole / total_chole"
   ]
  },
  {
   "cell_type": "code",
   "execution_count": 21,
   "id": "b810b6d2-cf3e-4331-b656-4fa395e2ddb4",
   "metadata": {},
   "outputs": [],
   "source": [
    "def classify_eyesight(val):\n",
    "    if val >= 1: \n",
    "        return \"Good\"\n",
    "    elif val > 0.5: \n",
    "        return \"Average\"\n",
    "    elif val > 0.25: \n",
    "        return \"Poor\"\n",
    "    else:\n",
    "        return \"Very Poor\""
   ]
  },
  {
   "cell_type": "code",
   "execution_count": 22,
   "id": "a7525f50-70c3-4fac-9d3c-e6578cefbaff",
   "metadata": {},
   "outputs": [],
   "source": [
    "def classify_blood_pressure(row):\n",
    "    sbp = row[\"SBP\"]\n",
    "    dbp = row[\"DBP\"]\n",
    "    if sbp < 120 and dbp < 80:\n",
    "        return \"Normal\"\n",
    "    elif sbp < 130 and dbp < 80:\n",
    "        return \"Elevated\"\n",
    "    elif sbp < 140 and dbp < 90:\n",
    "        return \"Hypertension Stage 1\"\n",
    "    elif sbp < 180 and dbp < 120:\n",
    "        return \"Hypertension Stage 2\"\n",
    "    else:\n",
    "        return \"Hypertensive Crisis\""
   ]
  },
  {
   "cell_type": "code",
   "execution_count": 23,
   "id": "78d8e70e-9827-4527-afb0-8e324e8c8064",
   "metadata": {},
   "outputs": [],
   "source": [
    "def classify_blood_glucose(row):\n",
    "    blood_glucose = row[\"BLDS\"]\n",
    "    if blood_glucose < 100:\n",
    "        return \"Normal\"\n",
    "    elif blood_glucose < 125:\n",
    "        return \"Pre-Diabetes\"\n",
    "    else:\n",
    "        return \"Diabetes\""
   ]
  },
  {
   "cell_type": "code",
   "execution_count": 24,
   "id": "db59389f-b19f-4276-84f6-e97de525320b",
   "metadata": {},
   "outputs": [],
   "source": [
    "def classify_serum_creatinine(row):\n",
    "    serum_creatinine = row[\"serum_creatinine\"]\n",
    "    if serum_creatinine < 2.7:\n",
    "        return \"Normal\"\n",
    "    else:\n",
    "        return \"Abnormal\""
   ]
  },
  {
   "cell_type": "code",
   "execution_count": 25,
   "id": "30635534-5818-4e8f-868b-08cc38590cc0",
   "metadata": {},
   "outputs": [],
   "source": [
    "def classify_SGOT_AST(row):\n",
    "    sgot_ast = row[\"SGOT_AST\"]\n",
    "    if sgot_ast < 40:\n",
    "        return \"Normal\"\n",
    "    else:\n",
    "        return \"Abnormal\""
   ]
  },
  {
   "cell_type": "code",
   "execution_count": 26,
   "id": "5be1c292-487f-4d84-ab13-d94c89e1fae2",
   "metadata": {},
   "outputs": [],
   "source": [
    "def classify_SGOT_ALT(row):\n",
    "    sgot_alt = row[\"SGOT_ALT\"]\n",
    "    if sgot_alt < 40:\n",
    "        return \"Normal\"\n",
    "    else:\n",
    "        return \"Abnormal\""
   ]
  },
  {
   "cell_type": "code",
   "execution_count": 27,
   "id": "a3b1b4dc-7978-438a-bf9a-4080206dcd35",
   "metadata": {},
   "outputs": [],
   "source": [
    "def classify_gamma_GTP(row):\n",
    "    gamma_gtp = row[\"gamma_GTP\"]\n",
    "    sex = row[\"sex\"]\n",
    "    if sex == \"Male\":\n",
    "        if gamma_gtp >= 11 and gamma_gtp <= 63:\n",
    "            return \"Normal\"\n",
    "        else:\n",
    "            return \"Abnormal\"\n",
    "    else:\n",
    "        if gamma_gtp >= 8 and gamma_gtp <= 35:\n",
    "            return \"Normal\"\n",
    "        else:\n",
    "            return \"Abnormal\""
   ]
  },
  {
   "cell_type": "code",
   "execution_count": 28,
   "id": "f399186a-6066-4c08-bfa2-696724327e0f",
   "metadata": {
    "tags": []
   },
   "outputs": [
    {
     "data": {
      "application/vnd.jupyter.widget-view+json": {
       "model_id": "657f249145734bcfb2b11bd2ea935233",
       "version_major": 2,
       "version_minor": 0
      },
      "text/plain": [
       "  0%|          | 0/991320 [00:00<?, ?it/s]"
      ]
     },
     "metadata": {},
     "output_type": "display_data"
    },
    {
     "data": {
      "application/vnd.jupyter.widget-view+json": {
       "model_id": "cf3694cda7f943c8847fe6644b74673e",
       "version_major": 2,
       "version_minor": 0
      },
      "text/plain": [
       "  0%|          | 0/991320 [00:00<?, ?it/s]"
      ]
     },
     "metadata": {},
     "output_type": "display_data"
    },
    {
     "data": {
      "application/vnd.jupyter.widget-view+json": {
       "model_id": "959c62d1cd5245e2aacdc769515ec06e",
       "version_major": 2,
       "version_minor": 0
      },
      "text/plain": [
       "  0%|          | 0/991320 [00:00<?, ?it/s]"
      ]
     },
     "metadata": {},
     "output_type": "display_data"
    },
    {
     "data": {
      "application/vnd.jupyter.widget-view+json": {
       "model_id": "35d8465ff9c044dab2e62c2a7dceaf81",
       "version_major": 2,
       "version_minor": 0
      },
      "text/plain": [
       "  0%|          | 0/991320 [00:00<?, ?it/s]"
      ]
     },
     "metadata": {},
     "output_type": "display_data"
    },
    {
     "data": {
      "application/vnd.jupyter.widget-view+json": {
       "model_id": "804f24ee4e4942b1b75b5d2d1e33e7e0",
       "version_major": 2,
       "version_minor": 0
      },
      "text/plain": [
       "  0%|          | 0/991320 [00:00<?, ?it/s]"
      ]
     },
     "metadata": {},
     "output_type": "display_data"
    },
    {
     "data": {
      "application/vnd.jupyter.widget-view+json": {
       "model_id": "cca0e6a7b7464a33a0857f675d3564b1",
       "version_major": 2,
       "version_minor": 0
      },
      "text/plain": [
       "  0%|          | 0/991320 [00:00<?, ?it/s]"
      ]
     },
     "metadata": {},
     "output_type": "display_data"
    },
    {
     "data": {
      "application/vnd.jupyter.widget-view+json": {
       "model_id": "5e3eb16da7244060ae29401f0262f437",
       "version_major": 2,
       "version_minor": 0
      },
      "text/plain": [
       "  0%|          | 0/991320 [00:00<?, ?it/s]"
      ]
     },
     "metadata": {},
     "output_type": "display_data"
    },
    {
     "data": {
      "application/vnd.jupyter.widget-view+json": {
       "model_id": "6999001fa25e4f4c987b0a6cfc2b6183",
       "version_major": 2,
       "version_minor": 0
      },
      "text/plain": [
       "  0%|          | 0/991320 [00:00<?, ?it/s]"
      ]
     },
     "metadata": {},
     "output_type": "display_data"
    },
    {
     "data": {
      "application/vnd.jupyter.widget-view+json": {
       "model_id": "31b365501e2d46cda7e1b5f52aa2aa20",
       "version_major": 2,
       "version_minor": 0
      },
      "text/plain": [
       "  0%|          | 0/991320 [00:00<?, ?it/s]"
      ]
     },
     "metadata": {},
     "output_type": "display_data"
    },
    {
     "data": {
      "application/vnd.jupyter.widget-view+json": {
       "model_id": "f941943d57bc4b3ea3e263e5818484cd",
       "version_major": 2,
       "version_minor": 0
      },
      "text/plain": [
       "  0%|          | 0/991320 [00:00<?, ?it/s]"
      ]
     },
     "metadata": {},
     "output_type": "display_data"
    },
    {
     "data": {
      "application/vnd.jupyter.widget-view+json": {
       "model_id": "65699b4a56e349f0880e1eac28374d6d",
       "version_major": 2,
       "version_minor": 0
      },
      "text/plain": [
       "  0%|          | 0/991320 [00:00<?, ?it/s]"
      ]
     },
     "metadata": {},
     "output_type": "display_data"
    },
    {
     "data": {
      "application/vnd.jupyter.widget-view+json": {
       "model_id": "b48b0071d795477aa2b1518cad5b2739",
       "version_major": 2,
       "version_minor": 0
      },
      "text/plain": [
       "  0%|          | 0/991320 [00:00<?, ?it/s]"
      ]
     },
     "metadata": {},
     "output_type": "display_data"
    }
   ],
   "source": [
    "df[\"bmi\"] = df.progress_apply(get_bmi, axis=1)\n",
    "df[\"BP_ratio\"] = df.progress_apply(get_blood_pressure_ratio, axis=1)\n",
    "df[\"HDL_ratio\"] = df.progress_apply(get_hdl_cholestorol_ratio, axis=1)\n",
    "df[\"LDL_ratio\"] = df.progress_apply(get_ldl_cholestorol_ratio, axis=1)\n",
    "df[\"sight_left_class\"] = df[\"sight_left\"].progress_apply(classify_eyesight)\n",
    "df[\"sight_right_class\"] = df[\"sight_right\"].progress_apply(classify_eyesight)\n",
    "df[\"blood_pressure_class\"] = df.progress_apply(classify_blood_pressure, axis=1)\n",
    "df[\"blood_glucose_class\"] = df.progress_apply(classify_blood_glucose, axis=1)\n",
    "df[\"serum_creatinine_class\"] = df.progress_apply(classify_serum_creatinine, axis=1)\n",
    "df[\"SGOT_AST_class\"] = df.progress_apply(classify_SGOT_AST, axis=1)\n",
    "df[\"SGOT_ALT_class\"] = df.progress_apply(classify_SGOT_ALT, axis=1)\n",
    "df[\"gamma_GTP_class\"] = df.progress_apply(classify_gamma_GTP, axis=1)"
   ]
  },
  {
   "cell_type": "code",
   "execution_count": 29,
   "id": "bacd8a9c-f131-4a88-8dfc-9d9c0d3a4a29",
   "metadata": {},
   "outputs": [],
   "source": [
    "df.to_parquet('Data/smk_drk_preprocessed.parquet')"
   ]
  },
  {
   "cell_type": "code",
   "execution_count": 35,
   "id": "ef99613d-bb88-49d4-97c2-5dba04c19920",
   "metadata": {},
   "outputs": [],
   "source": [
    "mlflow.log_artifact('Data/')"
   ]
  },
  {
   "cell_type": "markdown",
   "id": "f13f47ab-ee77-40d6-9d49-5f5a2d43123d",
   "metadata": {},
   "source": [
    "Fontes:\n",
    "\n",
    "[1] https://en.wikipedia.org/wiki/International_unit\n",
    "\n",
    "[2] https://www.ncbi.nlm.nih.gov/pmc/articles/PMC4069781/#:~:text=Visual%20acuity%20(VA\n",
    "\n",
    "[3] https://www.cdc.gov/bloodpressure/about.htm#:~:text=Blood%20pressure%20is%20measured%20using,your%20heart%20rests%20between%20beats.\n",
    "\n",
    "[4] https://www.cdc.gov/bloodpressure/about.htm#:~:text=Blood%20pressure%20is%20measured%20using,your%20heart%20rests%20between%20beats.\n",
    "\n",
    "[5] https://www.cdc.gov/cholesterol/ldl_hdl.htm#:~:text=Two%20types%20of%20lipoproteins%20carry,for%20heart%20disease%20and%20stroke.\n",
    "\n",
    "[6] https://www.nhlbi.nih.gov/health/high-blood-triglycerides#:~:text=Triglycerides%20are%20a%20type%20of,does%20not%20need%20right%20away.\n",
    "\n",
    "[7] https://www.mountsinai.org/health-library/tests/hemoglobin#:~:text=Hemoglobin%20is%20a%20protein%20in,is%20exchanged%20for%20carbon%20dioxide.\n",
    "\n",
    "[8] https://www.mountsinai.org/health-library/tests/hemoglobin#:~:text=Hemoglobin%20is%20a%20protein%20in,is%20exchanged%20for%20carbon%20dioxide.\n",
    "\n",
    "[9] https://www.mountsinai.org/health-library/tests/protein-urine-test\n",
    "\n",
    "[10] https://www.mountsinai.org/health-library/tests/creatinine-blood-test#:~:text=Creatinine%20is%20a%20chemical%20waste,body%20entirely%20by%20the%20kidneys.\n",
    "\n",
    "[11] https://my.clevelandclinic.org/health/diseases/17649-blood-pressure \n",
    "\n",
    "[12] https://www.who.int/data/gho/indicator-metadata-registry/imr-details/2380"
   ]
  }
 ],
 "metadata": {
  "kernelspec": {
   "display_name": "MLOps",
   "language": "python",
   "name": "mlops"
  },
  "language_info": {
   "codemirror_mode": {
    "name": "ipython",
    "version": 3
   },
   "file_extension": ".py",
   "mimetype": "text/x-python",
   "name": "python",
   "nbconvert_exporter": "python",
   "pygments_lexer": "ipython3",
   "version": "3.10.13"
  }
 },
 "nbformat": 4,
 "nbformat_minor": 5
}
