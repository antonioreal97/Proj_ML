{
 "cells": [
  {
   "cell_type": "code",
   "execution_count": 13,
   "id": "562f97a5-1b89-455c-b99c-3b95f2dfe42d",
   "metadata": {},
   "outputs": [],
   "source": [
    "import mlflow\n",
    "import numpy as np\n",
    "import pandas as pd\n",
    "from sklearn.preprocessing import OrdinalEncoder, MinMaxScaler\n",
    "from sklearn.model_selection import train_test_split\n",
    "from pycaret.classification import *"
   ]
  },
  {
   "cell_type": "code",
   "execution_count": 2,
   "id": "b5a3a095-1dc7-4127-bb76-8afe413f2d54",
   "metadata": {},
   "outputs": [],
   "source": [
    "mlflow.set_tracking_uri(\"Data/sqlite:///mlflow.db\")\n",
    "mlflow.set_tracking_uri(\"http://127.0.0.1:5000\")"
   ]
  },
  {
   "cell_type": "code",
   "execution_count": 3,
   "id": "e4eb99d2-c173-4dd3-a1e4-654f2f617ff3",
   "metadata": {},
   "outputs": [
    {
     "data": {
      "text/plain": [
       "<Experiment: artifact_location='file:///M:/CEUB - Pos Graduacao/MLOPs/3- Project Management/mlruns/1', creation_time=1729341700571, experiment_id='1', last_update_time=1729341700571, lifecycle_stage='active', name='drinking', tags={}>"
      ]
     },
     "execution_count": 3,
     "metadata": {},
     "output_type": "execute_result"
    }
   ],
   "source": [
    "mlflow.set_experiment(\"drinking\")"
   ]
  },
  {
   "cell_type": "code",
   "execution_count": null,
   "id": "62a1b165-9f2d-42cf-a47a-2d0913234b4e",
   "metadata": {},
   "outputs": [],
   "source": [
    "mlflow.artifacts.download_artifacts('mlflow-artifacts:/1/44fbf414a8fc47c3a9144c6bf149f77e/artifacts/smk_drk_preprocessed.parquet',dst_path = 'M:\\\\CEUB - Pos Graduacao\\\\MLOPs\\\\3- Project Management\\\\Model Tracking')"
   ]
  },
  {
   "cell_type": "code",
   "execution_count": 4,
   "id": "1fa6c183-59ca-4824-821e-8c324696ea8d",
   "metadata": {},
   "outputs": [],
   "source": [
    "df = pd.read_parquet('Data/smk_drk_preprocessed.parquet')"
   ]
  },
  {
   "cell_type": "code",
   "execution_count": 5,
   "id": "d6a8793b-382b-46e5-aa56-a0003a5295c8",
   "metadata": {
    "tags": []
   },
   "outputs": [],
   "source": [
    "cat_features = df.select_dtypes('object').columns.to_list()"
   ]
  },
  {
   "cell_type": "code",
   "execution_count": 6,
   "id": "878edfd5-d36f-4da1-9ef2-23616f020f73",
   "metadata": {
    "tags": []
   },
   "outputs": [],
   "source": [
    "ordinalEncoder = OrdinalEncoder(handle_unknown='use_encoded_value', unknown_value=-99).fit(df[cat_features])\n",
    "df[cat_features] = ordinalEncoder.transform(df[cat_features])"
   ]
  },
  {
   "cell_type": "code",
   "execution_count": 7,
   "id": "1d626888-aefe-4a4b-9a41-d6fa92ca1882",
   "metadata": {
    "tags": []
   },
   "outputs": [],
   "source": [
    "scaler = MinMaxScaler().set_output(transform='pandas')"
   ]
  },
  {
   "cell_type": "code",
   "execution_count": 8,
   "id": "deac4615-1735-4f44-ae11-9285ae7a7e48",
   "metadata": {
    "tags": []
   },
   "outputs": [],
   "source": [
    "scaled = scaler.fit_transform(df)"
   ]
  },
  {
   "cell_type": "code",
   "execution_count": 14,
   "id": "62ebe9d1-7e2e-4ff5-8c15-065b84121bcf",
   "metadata": {
    "tags": []
   },
   "outputs": [],
   "source": [
    "X = scaled.drop('DRK_YN',axis=1)\n",
    "y = scaled.loc[:,'DRK_YN']\n",
    "X_train, X_test, y_train, y_test = train_test_split(X, y, test_size=0.30, random_state=101)"
   ]
  },
  {
   "cell_type": "code",
   "execution_count": 17,
   "id": "ba862ae7-a005-4f4b-a0c8-ac6b8449d1a6",
   "metadata": {},
   "outputs": [],
   "source": [
    "from xgboost import XGBClassifier"
   ]
  },
  {
   "cell_type": "code",
   "execution_count": 19,
   "id": "6f7f05af-624c-4b52-8109-25fdb1175d46",
   "metadata": {},
   "outputs": [],
   "source": [
    "from sklearn.metrics import accuracy_score, f1_score, roc_auc_score, recall_score, precision_score"
   ]
  },
  {
   "cell_type": "code",
   "execution_count": 20,
   "id": "bc2aaa13-6397-4220-8058-1e5cce68b63f",
   "metadata": {
    "tags": []
   },
   "outputs": [],
   "source": [
    "with mlflow.start_run(run_name='drinking_0'):\n",
    "    mlflow.set_tag(\"model_name\", \"XGBoost\")\n",
    "    \n",
    "    # mlflow.log_params(params)\n",
    "    xgboost = XGBClassifier(n_estimators=100, \n",
    "                         n_jobs=-1,\n",
    "                         verbosity = 0)\n",
    "\n",
    "    xgboost.fit(X_train,y_train,verbose=1)\n",
    "\n",
    "    y_pred = xgboost.predict(X_test)\n",
    "\n",
    "    metrics = {\n",
    "    'acc' : accuracy_score(y_test, y_pred),\n",
    "    'f1' : f1_score(y_test, y_pred),\n",
    "    'auc' : roc_auc_score(y_test, y_pred),\n",
    "    'recal' : recall_score(y_test, y_pred),\n",
    "    'precision' : precision_score(y_test, y_pred)}\n",
    "    \n",
    "    xgboost.save_model(\"xgboost.json\")\n",
    "    \n",
    "    mlflow.log_metrics(metrics)\n",
    "    mlflow.xgboost.log_model(xgboost, \"xgboost.json\")"
   ]
  },
  {
   "cell_type": "code",
   "execution_count": null,
   "id": "d710451e-9089-478c-a0a2-05e16ca9684d",
   "metadata": {},
   "outputs": [],
   "source": [
    "with mlflow.start_run(run_name='drinking_0'):\n",
    "    mlflow.log_artifact('imgs/')\n",
    "    mlflow.set_tag(\"model_name\", \"CatBoost\")\n",
    "    \n",
    "    params = {\n",
    "        'iterations':100,\n",
    "        'task_type':\"GPU\",\n",
    "        'devices':'0:1'\n",
    "    }\n",
    "    mlflow.log_params(params)\n",
    "    catbooster = CatBoostClassifier(iterations=100,\n",
    "                               task_type=\"GPU\",\n",
    "                               devices='0:1'\n",
    "                               )\n",
    "    catbooster.fit(X_train,y_train,verbose=1)\n",
    "    y_pred = catbooster.predict(X_test)\n",
    "    metrics = {\n",
    "    'acc' : accuracy_score(y_test, y_pred),\n",
    "    'f1' : f1_score(y_test, y_pred),\n",
    "    'auc' : roc_auc_score(y_test, y_pred),\n",
    "    'recal' : recall_score(y_test, y_pred),\n",
    "    'precision' : precision_score(y_test, y_pred)}\n",
    "    \n",
    "    catbooster.save_model('catboost_model',\n",
    "           format=\"cbm\",\n",
    "           export_parameters=None,\n",
    "           pool=None)\n",
    "    \n",
    "    mlflow.log_metrics(metrics)\n",
    "    mlflow.catboost.log_model(catbooster, \"catboost_model\")"
   ]
  },
  {
   "cell_type": "code",
   "execution_count": null,
   "id": "3fa4129c-b082-4656-b7be-ad41e42ac69f",
   "metadata": {
    "tags": []
   },
   "outputs": [],
   "source": [
    "# with mlflow.start_run(run_name='drinking'):\n",
    "#     mlflow.set_tag(\"model_name\", \"lightgbm\")\n",
    "#     params = {\n",
    "#         'n_jobs': -1\n",
    "#     }\n",
    "#     mlflow.log_params(params)\n",
    "#     lightgbm = LGBMClassifier(n_jobs=-1)\n",
    "\n",
    "#     lightgbm.fit(X_train,y_train)\n",
    "\n",
    "#     y_pred = lightgbm.predict(X_test)\n",
    "\n",
    "#     metrics = {\n",
    "#     'acc' : accuracy_score(y_test, y_pred),\n",
    "#     'f1' : f1_score(y_test, y_pred),\n",
    "#     'auc' : roc_auc_score(y_test, y_pred),\n",
    "#     'recal' : recall_score(y_test, y_pred),\n",
    "#     'precision' : precision_score(y_test, y_pred)}\n",
    "    \n",
    "#     joblib.dump(lightgbm, 'lightgbm.pkl')\n",
    "#     mlflow.log_metrics(metrics)\n",
    "#     mlflow.lightgbm.log_model(lightgbm, \"lightgbm.pkl\")"
   ]
  }
 ],
 "metadata": {
  "kernelspec": {
   "display_name": "MLOps",
   "language": "python",
   "name": "mlops"
  },
  "language_info": {
   "codemirror_mode": {
    "name": "ipython",
    "version": 3
   },
   "file_extension": ".py",
   "mimetype": "text/x-python",
   "name": "python",
   "nbconvert_exporter": "python",
   "pygments_lexer": "ipython3",
   "version": "3.10.13"
  }
 },
 "nbformat": 4,
 "nbformat_minor": 5
}
