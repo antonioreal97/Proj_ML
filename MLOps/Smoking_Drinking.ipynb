{
 "cells": [
  {
   "cell_type": "markdown",
   "id": "5f70151c-7b80-4270-93ee-050d5e6c1cd6",
   "metadata": {},
   "source": [
    "Descrição das variáveis:\n",
    "\n",
    "Nota 1: 1 dL, ou 1 decilitro, equivale a 100 mL (mililitros) ou 0,1 L (litros).\n",
    "\n",
    "Nota 2: UI, ou unidades internacionais, são unidades de medida utilizadas para quantificar o efeito/atividade biológica de uma substância. \n",
    "\n",
    "Sex representa o sexo do indivíduo - masculino ou feminino.\n",
    "\n",
    "Height representa a altura do indivíduo, em incrementos de 5cm.\n",
    "\n",
    "Weight representa o peso do indivíduo, em incrementos de 5kg.\n",
    "\n",
    "Waist representa a circunferência da cintura do indivíduo.\n",
    "\n",
    "Sight_left representa a acuidade visual do olho esquerdo do indivíduo. A acuidade visual mede a capacidade do olho de distinguir formas e detalhes de objetos a uma determinada distância. Isso varia de 0,1 a 2,5, com valores <0,1 sendo deslocados para 0,1. \n",
    "\n",
    "Sight_right representa a acuidade visual do olho direito do indivíduo.\n",
    "\n",
    "Hear_esquerda mede a audição no ouvido esquerdo do indivíduo, sendo 1 representando normal e 2 representando anormal.\n",
    "\n",
    "Hear_right  mede a audição no ouvido direito do indivíduo com o mesmo sistema de classificação de listen_left.\n",
    "\n",
    "A SBP  mede a maior pressão arterial sistólica medida do indivíduo, em mmHg. A pressão arterial sistólica mede a pressão nas artérias quando o coração bate.\n",
    "\n",
    "A DBP  mede a pressão arterial diastólica medida do indivíduo, em mmHg. A pressão arterial diastólica mede a pressão nas artérias quando o coração descansa entre os batimentos. \n",
    "\n",
    "O BLDS mede a glicemia em jejum do indivíduo, em mg/dL. Isso representa a concentração de glicose por 100ml de sangue antes de uma refeição.\n",
    "\n",
    "Tot_chole mede a concentração total de colesterol (éster e não éster) no indivíduo, em mg/dL.\n",
    "\n",
    "HDL_chole mede a concentração total de colesterol na região HDL (lipoproteína de alta densidade) do indivíduo, em mg/dL. O colesterol HDL, também chamado de colesterol bom, absorve o colesterol no sangue e o transporta de volta ao fígado, que então o elimina do corpo. Observe que valores mais elevados de colesterol HDL podem diminuir o risco de doenças cardíacas. \n",
    "\n",
    "LDL_chole mede a concentração total de colesterol na região LDL (lipoproteína de baixa densidade), em mg/dL. O colesterol LDL, também chamado de colesterol ruim, constitui a maior parte do colesterol do corpo. Altos níveis disso podem aumentar o risco de doenças cardíacas e derrames. \n",
    "\n",
    "Triglyceride mede a concentração total de triglicerídeos no sangue do indivíduo, em mg/dL. Os triglicerídeos são um tipo de lipídios (ou seja, gordura) que circulam no sangue e geralmente se originam dos alimentos que consumimos. \n",
    "\n",
    "A hemoglobin  mede a concentração total de hemoglobina no sangue do indivíduo, em g/dL. A hemoglobina é uma proteína dos nossos glóbulos vermelhos que transporta oxigênio. \n",
    "\n",
    "Urine_protein mede a quantidade de proteína na urina do indivíduo. Altos níveis de proteína na urina, ou proteinúria, podem ser um sinal de muitos problemas de saúde, como insuficiência cardíaca e problemas renais. Não está claro o que significam as codificações do rótulo (1(-), 2(+/-), 3(+1), 4(+2), 5(+3), 6(+4)) para esta variável, embora poderíamos especular que se refere à quantidade de desvios padrão da média em que o valor reside na distribuição de recursos.\n",
    "\n",
    "Serum_creatine  mede a concentração de creatinina no soro do indivíduo (que reside no sangue), em mg/dL. A creatinina é um resíduo da creatina, produzida para fornecer energia principalmente aos músculos. Normalmente, isso é totalmente removido pelos rins; assim, se a função renal estiver anormal, a concentração de creatinina aumentará. Os valores normais estão em torno de 0,8-2,7 mg/dL.\n",
    "\n",
    "SGOT_AST mede o valor SGOT (Glutamato-oxaloacetato transaminase) - AST (Aspartato transaminase) em UI/L, que são valores em exames de sangue que quantificam o desempenho do fígado, coração e outros órgãos. Em particular, quando estes estão danificados, o valor disto aumenta. Os valores normais estão em torno de 0-40 UI/L.\n",
    "\n",
    "SGOT_ALT mede o valor SGOT (Glutamato-oxaloacetato transaminase) - ALT (Alanina transaminase) em UI/L, que são valores em exames de sangue que quantificam o desempenho do fígado. Principalmente quando estes estão danificados, seu valor aumenta. Os valores normais estão em torno de 0-40 UI/L.\n",
    "\n",
    "Gama_GTP mede o valor de gama-GTP (y-glutamil transpeptidase) em UI/L, que são valores que quantificam a função hepática no dict biliar. Os valores normais são cerca de 11-63 UI/L para homens e 8-35 UI/L para mulheres.\n",
    "\n",
    "SMK_STAT_TYPE_CD mede o estado de fumar do indivíduo, onde 1 corresponde a nunca ter fumado, 2 corresponde a ter fumado mas desistido e 3 corresponde a ainda fumar.\n",
    "\n",
    "DRK_YN é uma bandeira que indica se o indivíduo bebe ou não."
   ]
  },
  {
   "cell_type": "code",
   "execution_count": null,
   "id": "4bbd844d",
   "metadata": {
    "tags": []
   },
   "outputs": [],
   "source": [
    "import random\n",
    "import joblib\n",
    "import numpy as np\n",
    "import pandas as pd\n",
    "import matplotlib as plt\n",
    "from tqdm.auto import tqdm\n",
    "import plotly.express as px\n",
    "import plotly.graph_objects as go\n",
    "from ydata_profiling import ProfileReport\n",
    "from sklearn.preprocessing import OrdinalEncoder\n",
    "from sklearn.preprocessing import MinMaxScaler"
   ]
  },
  {
   "cell_type": "code",
   "execution_count": null,
   "id": "bf157943-b9a8-4056-8d17-a89b7570eec3",
   "metadata": {
    "tags": []
   },
   "outputs": [],
   "source": [
    "from xgboost import XGBClassifier\n",
    "from lightgbm import LGBMClassifier\n",
    "from catboost import CatBoostClassifier"
   ]
  },
  {
   "cell_type": "code",
   "execution_count": null,
   "id": "42beb610-513f-4320-97f0-b6b5d528226b",
   "metadata": {
    "tags": []
   },
   "outputs": [],
   "source": [
    "from sklearn.metrics import accuracy_score, f1_score, roc_auc_score, recall_score, precision_score\n",
    "from sklearn.model_selection import GridSearchCV, cross_validate, StratifiedKFold,  train_test_split"
   ]
  },
  {
   "cell_type": "code",
   "execution_count": null,
   "id": "002eb06b-b601-47e5-826d-9df6324596fb",
   "metadata": {
    "tags": []
   },
   "outputs": [],
   "source": [
    "import warnings\n",
    "warnings.filterwarnings(\"ignore\")"
   ]
  },
  {
   "cell_type": "code",
   "execution_count": null,
   "id": "022d3faf-08ad-4b29-bec9-6702cfdfad17",
   "metadata": {
    "tags": []
   },
   "outputs": [],
   "source": [
    "import mlflow\n",
    "# mlflow ui --backend-store-uri sqlite:///mlflow.db\n",
    "# mlflow server --host 127.0.0.1 --port 5000\n",
    "mlflow.set_tracking_uri(\"sqlite:///mlflow.db\")\n",
    "mlflow.set_experiment(\"drinking_2\")\n",
    "# mlflow.set_tracking_uri(\"http://127.0.0.1:5000\")"
   ]
  },
  {
   "cell_type": "code",
   "execution_count": null,
   "id": "ee65141e-b1e3-462b-a07f-3ab613e8239f",
   "metadata": {
    "tags": []
   },
   "outputs": [],
   "source": [
    "mlflow.autolog()"
   ]
  },
  {
   "cell_type": "code",
   "execution_count": null,
   "id": "36066282-7680-49c7-998b-2fc391fe8a79",
   "metadata": {
    "tags": []
   },
   "outputs": [],
   "source": [
    "tqdm.pandas()"
   ]
  },
  {
   "cell_type": "code",
   "execution_count": null,
   "id": "24f0fc2d-f326-46c3-9f6e-50e4a710ea68",
   "metadata": {
    "tags": []
   },
   "outputs": [],
   "source": [
    "path = 'imgs/'"
   ]
  },
  {
   "cell_type": "code",
   "execution_count": null,
   "id": "1b175aa0-cea2-4600-ac1d-4b649ecb3471",
   "metadata": {
    "tags": []
   },
   "outputs": [],
   "source": [
    "df = pd.read_csv('smoking_driking.csv')"
   ]
  },
  {
   "cell_type": "code",
   "execution_count": null,
   "id": "d3425382-08bf-4c51-b579-fc084019fc1c",
   "metadata": {
    "tags": []
   },
   "outputs": [],
   "source": [
    "df"
   ]
  },
  {
   "cell_type": "code",
   "execution_count": null,
   "id": "c4c9b801",
   "metadata": {
    "tags": []
   },
   "outputs": [],
   "source": [
    "df.info()"
   ]
  },
  {
   "cell_type": "code",
   "execution_count": null,
   "id": "fe104208",
   "metadata": {
    "tags": []
   },
   "outputs": [],
   "source": [
    "df[df.isnull().any(axis=1)]"
   ]
  },
  {
   "cell_type": "code",
   "execution_count": null,
   "id": "03c9fbfb",
   "metadata": {
    "scrolled": true,
    "tags": []
   },
   "outputs": [],
   "source": [
    "df[df.duplicated]"
   ]
  },
  {
   "cell_type": "code",
   "execution_count": null,
   "id": "0d8d3fce",
   "metadata": {
    "tags": []
   },
   "outputs": [],
   "source": [
    "df.drop_duplicates(inplace=True)"
   ]
  },
  {
   "cell_type": "code",
   "execution_count": null,
   "id": "704e253a",
   "metadata": {
    "tags": []
   },
   "outputs": [],
   "source": [
    "df[df.duplicated].shape"
   ]
  },
  {
   "cell_type": "code",
   "execution_count": null,
   "id": "702c6d69",
   "metadata": {
    "tags": []
   },
   "outputs": [],
   "source": [
    "df.describe().T"
   ]
  },
  {
   "cell_type": "code",
   "execution_count": null,
   "id": "22e320d2-2d40-4b8a-99fa-96e7d1b952b0",
   "metadata": {
    "tags": []
   },
   "outputs": [],
   "source": [
    "df.head()"
   ]
  },
  {
   "cell_type": "code",
   "execution_count": null,
   "id": "ab56443e-f360-4638-b930-96317171b097",
   "metadata": {
    "tags": []
   },
   "outputs": [],
   "source": [
    "profile = ProfileReport(df, title=\"Pandas Profiling Report\")\n",
    "profile"
   ]
  },
  {
   "cell_type": "code",
   "execution_count": null,
   "id": "ed036e10-b18e-4c50-8549-93e22a18a892",
   "metadata": {},
   "outputs": [],
   "source": [
    "fig = go.Figure()\n",
    "\n",
    "for category in df['DRK_YN'].unique():\n",
    "    data = df[df['DRK_YN'] == category]\n",
    "    fig.add_trace(go.Histogram(x=data['age'], name=category, nbinsx=int(df.age.max())))  \n",
    "    \n",
    "fig.update_layout(\n",
    "    title='Histogram of Age by Drinking',\n",
    "    xaxis_title='Age',\n",
    "    yaxis_title='Count',\n",
    ")\n",
    "\n",
    "fig.show()"
   ]
  },
  {
   "cell_type": "code",
   "execution_count": null,
   "id": "c8507d27-3007-417f-af24-41b2dd1363a8",
   "metadata": {
    "tags": []
   },
   "outputs": [],
   "source": [
    "fig.write_html(f\"{path}/hist_age_drkn.html\")"
   ]
  },
  {
   "cell_type": "code",
   "execution_count": null,
   "id": "708fce86-2d25-4bf5-ba14-f3a704abadf3",
   "metadata": {
    "tags": []
   },
   "outputs": [],
   "source": [
    "fig1 = px.histogram(df, x=\"sex\", color=\"DRK_YN\", barmode=\"group\")\n",
    "\n",
    "fig.update_layout(\n",
    "    xaxis_title=\"sex\",\n",
    "    yaxis_title=\"Count\",\n",
    "    barmode=\"group\",\n",
    "    bargap=0.1\n",
    ")\n",
    "\n",
    "for data in fig.data:\n",
    "    fig.add_annotation(\n",
    "        x=data.x,\n",
    "        y=data.y,\n",
    "        text=data.y,\n",
    "#         showarrow=False,\n",
    "        font=dict(size=12)\n",
    ")\n",
    "\n",
    "fig1.show()"
   ]
  },
  {
   "cell_type": "code",
   "execution_count": null,
   "id": "8ee778cc-50c0-499c-85f8-c6465ec53a40",
   "metadata": {
    "tags": []
   },
   "outputs": [],
   "source": [
    "fig1.write_html(f\"{path}/hist_sex_drkn.html\")"
   ]
  },
  {
   "cell_type": "code",
   "execution_count": null,
   "id": "ded980dd-da83-4e8c-9d21-eb814f6ac879",
   "metadata": {
    "tags": []
   },
   "outputs": [],
   "source": [
    "df['sex'] = np.where(df['sex'].values=='Female',0,1)"
   ]
  },
  {
   "cell_type": "code",
   "execution_count": null,
   "id": "7c0afedb-45cc-4e25-9aed-e79d10536beb",
   "metadata": {},
   "outputs": [],
   "source": [
    "df['DRK_YN'] = np.where(df['DRK_YN'].values=='N',0,1)"
   ]
  },
  {
   "cell_type": "code",
   "execution_count": null,
   "id": "b480ea74-663d-4da6-b2c4-b5a2a8cbaaf0",
   "metadata": {
    "tags": []
   },
   "outputs": [],
   "source": [
    "i = random.randint(0, 93)\n",
    "colorscales = px.colors.named_colorscales()\n",
    "corr = px.imshow(df.corr(numeric_only=True), \n",
    "                            text_auto=True, width=800, height=800, \n",
    "                            color_continuous_scale=colorscales[i],)\n",
    "corr.show()"
   ]
  },
  {
   "cell_type": "code",
   "execution_count": null,
   "id": "bc583620-d552-42d9-a221-175e58e081ff",
   "metadata": {
    "tags": []
   },
   "outputs": [],
   "source": [
    "corr.write_html(f\"{path}/corr.html\")"
   ]
  },
  {
   "cell_type": "code",
   "execution_count": null,
   "id": "132aedcb-be3c-414f-b335-13c1602a5045",
   "metadata": {},
   "outputs": [],
   "source": [
    "def get_bmi(row):\n",
    "    weight = row[\"weight\"]\n",
    "    height = row[\"height\"]\n",
    "    return weight / (height ** 2)"
   ]
  },
  {
   "cell_type": "code",
   "execution_count": null,
   "id": "d9664a3f-a202-4a0c-960e-1b0cbc7320e3",
   "metadata": {},
   "outputs": [],
   "source": [
    "def get_blood_pressure_ratio(row):\n",
    "    sbp = row[\"SBP\"]\n",
    "    dbp = row[\"DBP\"]\n",
    "    return sbp / dbp"
   ]
  },
  {
   "cell_type": "code",
   "execution_count": null,
   "id": "6ac73118-2b8b-4791-8bb8-0c845f7df065",
   "metadata": {},
   "outputs": [],
   "source": [
    "def get_hdl_cholestorol_ratio(row):\n",
    "    hdl_chole = row[\"HDL_chole\"]\n",
    "    total_chole = row[\"tot_chole\"]\n",
    "    return hdl_chole / total_chole"
   ]
  },
  {
   "cell_type": "code",
   "execution_count": null,
   "id": "21939dfa-e930-4dbf-9813-1a5fbb398aa8",
   "metadata": {},
   "outputs": [],
   "source": [
    "def get_ldl_cholestorol_ratio(row):\n",
    "    ldl_chole = row[\"LDL_chole\"]\n",
    "    total_chole = row[\"tot_chole\"]\n",
    "    return ldl_chole / total_chole"
   ]
  },
  {
   "cell_type": "code",
   "execution_count": null,
   "id": "b810b6d2-cf3e-4331-b656-4fa395e2ddb4",
   "metadata": {},
   "outputs": [],
   "source": [
    "def classify_eyesight(val):\n",
    "    if val > 1: \n",
    "        return \"Good\"\n",
    "    elif val > 0.5: \n",
    "        return \"Average\"\n",
    "    elif val > 0.25: \n",
    "        return \"Poor\"\n",
    "    else:\n",
    "        return \"Very Poor\""
   ]
  },
  {
   "cell_type": "code",
   "execution_count": null,
   "id": "a7525f50-70c3-4fac-9d3c-e6578cefbaff",
   "metadata": {},
   "outputs": [],
   "source": [
    "def classify_blood_pressure(row):\n",
    "    sbp = row[\"SBP\"]\n",
    "    dbp = row[\"DBP\"]\n",
    "    if sbp < 120 and dbp < 80:\n",
    "        return \"Normal\"\n",
    "    elif sbp < 130 and dbp < 80:\n",
    "        return \"Elevated\"\n",
    "    elif sbp < 140 and dbp < 90:\n",
    "        return \"Hypertension Stage 1\"\n",
    "    elif sbp < 180 and dbp < 120:\n",
    "        return \"Hypertension Stage 2\"\n",
    "    else:\n",
    "        return \"Hypertensive Crisis\""
   ]
  },
  {
   "cell_type": "code",
   "execution_count": null,
   "id": "78d8e70e-9827-4527-afb0-8e324e8c8064",
   "metadata": {},
   "outputs": [],
   "source": [
    "def classify_blood_glucose(row):\n",
    "    blood_glucose = row[\"BLDS\"]\n",
    "    if blood_glucose < 100:\n",
    "        return \"Normal\"\n",
    "    elif blood_glucose < 125:\n",
    "        return \"Pre-Diabetes\"\n",
    "    else:\n",
    "        return \"Diabetes\""
   ]
  },
  {
   "cell_type": "code",
   "execution_count": null,
   "id": "db59389f-b19f-4276-84f6-e97de525320b",
   "metadata": {},
   "outputs": [],
   "source": [
    "def classify_serum_creatinine(row):\n",
    "    serum_creatinine = row[\"serum_creatinine\"]\n",
    "    if serum_creatinine < 2.7:\n",
    "        return \"Normal\"\n",
    "    else:\n",
    "        return \"Abnormal\""
   ]
  },
  {
   "cell_type": "code",
   "execution_count": null,
   "id": "30635534-5818-4e8f-868b-08cc38590cc0",
   "metadata": {},
   "outputs": [],
   "source": [
    "def classify_SGOT_AST(row):\n",
    "    sgot_ast = row[\"SGOT_AST\"]\n",
    "    if sgot_ast < 40:\n",
    "        return \"Normal\"\n",
    "    else:\n",
    "        return \"Abnormal\""
   ]
  },
  {
   "cell_type": "code",
   "execution_count": null,
   "id": "5be1c292-487f-4d84-ab13-d94c89e1fae2",
   "metadata": {},
   "outputs": [],
   "source": [
    "def classify_SGOT_ALT(row):\n",
    "    sgot_alt = row[\"SGOT_ALT\"]\n",
    "    if sgot_alt < 40:\n",
    "        return \"Normal\"\n",
    "    else:\n",
    "        return \"Abnormal\""
   ]
  },
  {
   "cell_type": "code",
   "execution_count": null,
   "id": "a3b1b4dc-7978-438a-bf9a-4080206dcd35",
   "metadata": {},
   "outputs": [],
   "source": [
    "def classify_gamma_GTP(row):\n",
    "    gamma_gtp = row[\"gamma_GTP\"]\n",
    "    sex = row[\"sex\"]\n",
    "    if sex == \"Male\":\n",
    "        if gamma_gtp >= 11 and gamma_gtp <= 63:\n",
    "            return \"Normal\"\n",
    "        else:\n",
    "            return \"Abnormal\"\n",
    "    else:\n",
    "        if gamma_gtp >= 8 and gamma_gtp <= 35:\n",
    "            return \"Normal\"\n",
    "        else:\n",
    "            return \"Abnormal\""
   ]
  },
  {
   "cell_type": "code",
   "execution_count": null,
   "id": "f399186a-6066-4c08-bfa2-696724327e0f",
   "metadata": {
    "tags": []
   },
   "outputs": [],
   "source": [
    "df[\"bmi\"] = df.progress_apply(get_bmi, axis=1)\n",
    "df[\"BP_ratio\"] = df.progress_apply(get_blood_pressure_ratio, axis=1)\n",
    "df[\"HDL_ratio\"] = df.progress_apply(get_hdl_cholestorol_ratio, axis=1)\n",
    "df[\"LDL_ratio\"] = df.progress_apply(get_ldl_cholestorol_ratio, axis=1)\n",
    "df[\"sight_left_class\"] = df[\"sight_left\"].progress_apply(classify_eyesight)\n",
    "df[\"sight_right_class\"] = df[\"sight_right\"].progress_apply(classify_eyesight)\n",
    "df[\"blood_pressure_class\"] = df.progress_apply(classify_blood_pressure, axis=1)\n",
    "df[\"blood_glucose_class\"] = df.progress_apply(classify_blood_glucose, axis=1)\n",
    "df[\"serum_creatinine_class\"] = df.progress_apply(classify_serum_creatinine, axis=1)\n",
    "df[\"SGOT_AST_class\"] = df.progress_apply(classify_SGOT_AST, axis=1)\n",
    "df[\"SGOT_ALT_class\"] = df.progress_apply(classify_SGOT_ALT, axis=1)\n",
    "df[\"gamma_GTP_class\"] = df.progress_apply(classify_gamma_GTP, axis=1)"
   ]
  },
  {
   "cell_type": "code",
   "execution_count": null,
   "id": "ca0ec444-2fa6-47d9-b980-395bf643a02f",
   "metadata": {
    "tags": []
   },
   "outputs": [],
   "source": [
    "cat_features = []\n",
    "for i in df.columns:\n",
    "    if df[i].dtype == object:\n",
    "        cat_features.append(i)"
   ]
  },
  {
   "cell_type": "code",
   "execution_count": null,
   "id": "b90f530c-0e8c-4415-834d-a0352957d061",
   "metadata": {
    "tags": []
   },
   "outputs": [],
   "source": [
    "ordinalEncoder = OrdinalEncoder(handle_unknown='use_encoded_value', unknown_value=-99).fit(df[cat_features])\n",
    "df[cat_features] = ordinalEncoder.transform(df[cat_features])"
   ]
  },
  {
   "cell_type": "code",
   "execution_count": null,
   "id": "e70852cc-7643-43f9-bfda-6acd758776a6",
   "metadata": {
    "tags": []
   },
   "outputs": [],
   "source": [
    "scaler = MinMaxScaler().set_output(transform='pandas')"
   ]
  },
  {
   "cell_type": "code",
   "execution_count": null,
   "id": "f141044a-7374-43be-80be-e7618bd9be88",
   "metadata": {
    "tags": []
   },
   "outputs": [],
   "source": [
    "scaled = scaler.fit_transform(df)"
   ]
  },
  {
   "cell_type": "code",
   "execution_count": null,
   "id": "918bbf87-ea31-4de5-b1ec-3dc67f57c1be",
   "metadata": {
    "tags": []
   },
   "outputs": [],
   "source": [
    "X = scaled.drop('DRK_YN',axis=1)\n",
    "y = scaled.loc[:,'DRK_YN']\n",
    "X_train, X_test, y_train, y_test = train_test_split(X, y, test_size=0.30, random_state=101)"
   ]
  },
  {
   "cell_type": "code",
   "execution_count": null,
   "id": "3e4da823-7f42-44a4-81dd-b48960abcdb2",
   "metadata": {
    "tags": []
   },
   "outputs": [],
   "source": [
    "with mlflow.start_run(run_name='drinking_2'):\n",
    "    mlflow.log_artifact('imgs/')\n",
    "    mlflow.set_tag(\"model_name\", \"XGBoost\")\n",
    "    \n",
    "    # mlflow.log_params(params)\n",
    "    xgboost = XGBClassifier(n_estimators=100, \n",
    "                         n_jobs=-1,\n",
    "                         verbosity = 0)\n",
    "\n",
    "    xgboost.fit(X_train,y_train,verbose=1)\n",
    "\n",
    "    y_pred = xgboost.predict(X_test)\n",
    "\n",
    "    metrics = {\n",
    "    'acc' : accuracy_score(y_test, y_pred),\n",
    "    'f1' : f1_score(y_test, y_pred),\n",
    "    'auc' : roc_auc_score(y_test, y_pred),\n",
    "    'recal' : recall_score(y_test, y_pred),\n",
    "    'precision' : precision_score(y_test, y_pred)}\n",
    "    \n",
    "    xgboost.save_model(\"xgboost.json\")\n",
    "    \n",
    "    mlflow.log_metrics(metrics)\n",
    "    mlflow.xgboost.log_model(xgboost, \"xgboost.json\")"
   ]
  },
  {
   "cell_type": "code",
   "execution_count": null,
   "id": "c39c0daf-0e2d-45d5-8bab-a10eab94869d",
   "metadata": {},
   "outputs": [],
   "source": [
    "with mlflow.start_run(run_name='drinking_0'):\n",
    "    mlflow.log_artifact('imgs/')\n",
    "    mlflow.set_tag(\"model_name\", \"CatBoost\")\n",
    "    \n",
    "    params = {\n",
    "        'iterations':100,\n",
    "        'task_type':\"GPU\",\n",
    "        'devices':'0:1'\n",
    "    }\n",
    "    mlflow.log_params(params)\n",
    "    catbooster = CatBoostClassifier(iterations=100,\n",
    "                               task_type=\"GPU\",\n",
    "                               devices='0:1'\n",
    "                               )\n",
    "    catbooster.fit(X_train,y_train,verbose=1)\n",
    "    y_pred = catbooster.predict(X_test)\n",
    "    metrics = {\n",
    "    'acc' : accuracy_score(y_test, y_pred),\n",
    "    'f1' : f1_score(y_test, y_pred),\n",
    "    'auc' : roc_auc_score(y_test, y_pred),\n",
    "    'recal' : recall_score(y_test, y_pred),\n",
    "    'precision' : precision_score(y_test, y_pred)}\n",
    "    \n",
    "    catbooster.save_model('catboost_model',\n",
    "           format=\"cbm\",\n",
    "           export_parameters=None,\n",
    "           pool=None)\n",
    "    \n",
    "    mlflow.log_metrics(metrics)\n",
    "    mlflow.catboost.log_model(catbooster, \"catboost_model\")"
   ]
  },
  {
   "cell_type": "code",
   "execution_count": null,
   "id": "b2b7f8e2-8fc4-4189-9d15-7987527da8d7",
   "metadata": {},
   "outputs": [],
   "source": [
    "import mlflow\n",
    "import mlflow.xgboost\n",
    "from hyperopt import hp, fmin, tpe, STATUS_OK, Trials\n",
    "from sklearn.model_selection import cross_validate, StratifiedKFold\n",
    "from xgboost import XGBClassifier\n",
    "\n",
    "# Inicie uma execução principal do MLflow\n",
    "with mlflow.start_run(run_name='drinking_2'):\n",
    "\n",
    "    # Defina a função objetivo\n",
    "    def objective(params):\n",
    "        params = {\n",
    "            'gamma': float(params['gamma']), \n",
    "            'learning_rate': float(params['learning_rate']),\n",
    "            'n_estimators': int(params['n_estimators']),\n",
    "            'reg_alpha': float(params['reg_alpha']),\n",
    "            'reg_lambda': float(params['reg_lambda']),\n",
    "            'max_depth': int(params['max_depth']),\n",
    "            'colsample_bytree': float(params['colsample_bytree']),\n",
    "            'min_child_weight': int(params['min_child_weight']),\n",
    "        }\n",
    "\n",
    "        # Inicie uma execução aninhada do MLflow para esta iteração\n",
    "        with mlflow.start_run(nested=True):\n",
    "            # Registre os parâmetros\n",
    "            mlflow.log_params(params)\n",
    "\n",
    "            clf = XGBClassifier(**params,device='cuda')\n",
    "\n",
    "            cv_results = cross_validate(\n",
    "                clf, X, y, scoring=scoring, cv=StratifiedKFold(n_splits=3), return_train_score=False\n",
    "            )\n",
    "\n",
    "            metrics = {\n",
    "            'acc' : accuracy_score(y_test, y_pred),\n",
    "            'f1' : f1_score(y_test, y_pred),\n",
    "            'auc' : roc_auc_score(y_test, y_pred),\n",
    "            'recal' : recall_score(y_test, y_pred),\n",
    "            'precision' : precision_score(y_test, y_pred)}\n",
    "\n",
    "            # Registre as métricas\n",
    "            mlflow.log_metrics(metrics)\n",
    "\n",
    "            # Retorne a perda (negativa, pois o Hyperopt minimiza a função)\n",
    "            # Aqui, estamos usando a negativa da AUC ROC como perda\n",
    "            loss = -metrics['roc_auc']\n",
    "            return {'loss': loss, 'status': STATUS_OK}\n",
    "\n",
    "    # Defina o espaço de busca dos hiperparâmetros\n",
    "    space = {\n",
    "        'gamma': hp.loguniform('gamma', 0.02, 0.1),\n",
    "        'learning_rate': hp.loguniform('learning_rate', 0.0000007, 0.01),\n",
    "        'n_estimators': hp.quniform('n_estimators', 50, 350, 1),\n",
    "        'reg_alpha': hp.loguniform('reg_alpha', 0.02, 0.1),\n",
    "        'reg_lambda': hp.loguniform('reg_lambda', 0.02, 0.1),\n",
    "        'max_depth': hp.quniform('max_depth', 6, 10, 1),\n",
    "        'colsample_bytree': hp.quniform('colsample_bytree', 0.1, 1.0, 0.1),\n",
    "        'min_child_weight': hp.quniform('min_child_weight', 1, 15, 1),\n",
    "    }\n",
    "\n",
    "    bayes_trials = Trials()\n",
    "\n",
    "    # Execute a otimização\n",
    "    best = fmin(\n",
    "        fn=objective,\n",
    "        space=space,\n",
    "        trials=bayes_trials,\n",
    "        algo=tpe.suggest,\n",
    "        max_evals=20\n",
    "    )\n",
    "\n",
    "    print(\"XGB: Hyperopt estimated optimum {}\".format(best))\n"
   ]
  },
  {
   "cell_type": "code",
   "execution_count": null,
   "id": "a18c8271-8c55-47ca-895f-c6b38f0e6ac3",
   "metadata": {
    "tags": []
   },
   "outputs": [],
   "source": [
    "# with mlflow.start_run(run_name='drinking'):\n",
    "#     mlflow.set_tag(\"model_name\", \"lightgbm\")\n",
    "#     params = {\n",
    "#         'n_jobs': -1\n",
    "#     }\n",
    "#     mlflow.log_params(params)\n",
    "#     lightgbm = LGBMClassifier(n_jobs=-1)\n",
    "\n",
    "#     lightgbm.fit(X_train,y_train)\n",
    "\n",
    "#     y_pred = lightgbm.predict(X_test)\n",
    "\n",
    "#     metrics = {\n",
    "#     'acc' : accuracy_score(y_test, y_pred),\n",
    "#     'f1' : f1_score(y_test, y_pred),\n",
    "#     'auc' : roc_auc_score(y_test, y_pred),\n",
    "#     'recal' : recall_score(y_test, y_pred),\n",
    "#     'precision' : precision_score(y_test, y_pred)}\n",
    "    \n",
    "#     joblib.dump(lightgbm, 'lightgbm.pkl')\n",
    "#     mlflow.log_metrics(metrics)\n",
    "#     mlflow.lightgbm.log_model(lightgbm, \"lightgbm.pkl\")"
   ]
  },
  {
   "cell_type": "markdown",
   "id": "f13f47ab-ee77-40d6-9d49-5f5a2d43123d",
   "metadata": {},
   "source": [
    "Fontes:\n",
    "\n",
    "[1] https://en.wikipedia.org/wiki/International_unit\n",
    "\n",
    "[2] https://www.ncbi.nlm.nih.gov/pmc/articles/PMC4069781/#:~:text=Visual%20acuity%20(VA\n",
    "\n",
    "[3] https://www.cdc.gov/bloodpressure/about.htm#:~:text=Blood%20pressure%20is%20measured%20using,your%20heart%20rests%20between%20beats.\n",
    "\n",
    "[4] https://www.cdc.gov/bloodpressure/about.htm#:~:text=Blood%20pressure%20is%20measured%20using,your%20heart%20rests%20between%20beats.\n",
    "\n",
    "[5] https://www.cdc.gov/cholesterol/ldl_hdl.htm#:~:text=Two%20types%20of%20lipoproteins%20carry,for%20heart%20disease%20and%20stroke.\n",
    "\n",
    "[6] https://www.nhlbi.nih.gov/health/high-blood-triglycerides#:~:text=Triglycerides%20are%20a%20type%20of,does%20not%20need%20right%20away.\n",
    "\n",
    "[7] https://www.mountsinai.org/health-library/tests/hemoglobin#:~:text=Hemoglobin%20is%20a%20protein%20in,is%20exchanged%20for%20carbon%20dioxide.\n",
    "\n",
    "[8] https://www.mountsinai.org/health-library/tests/hemoglobin#:~:text=Hemoglobin%20is%20a%20protein%20in,is%20exchanged%20for%20carbon%20dioxide.\n",
    "\n",
    "[9] https://www.mountsinai.org/health-library/tests/protein-urine-test\n",
    "\n",
    "[10] https://www.mountsinai.org/health-library/tests/creatinine-blood-test#:~:text=Creatinine%20is%20a%20chemical%20waste,body%20entirely%20by%20the%20kidneys.\n",
    "\n",
    "[11] https://my.clevelandclinic.org/health/diseases/17649-blood-pressure \n",
    "\n",
    "[12] https://www.who.int/data/gho/indicator-metadata-registry/imr-details/2380"
   ]
  }
 ],
 "metadata": {
  "kernelspec": {
   "display_name": "MLOps",
   "language": "python",
   "name": "mlops"
  },
  "language_info": {
   "codemirror_mode": {
    "name": "ipython",
    "version": 3
   },
   "file_extension": ".py",
   "mimetype": "text/x-python",
   "name": "python",
   "nbconvert_exporter": "python",
   "pygments_lexer": "ipython3",
   "version": "3.10.13"
  }
 },
 "nbformat": 4,
 "nbformat_minor": 5
}
